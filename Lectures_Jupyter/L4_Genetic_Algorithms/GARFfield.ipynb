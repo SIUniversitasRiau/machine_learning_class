{
 "cells": [
  {
   "cell_type": "markdown",
   "metadata": {},
   "source": [
    "<center>\n",
    "<font size='7' style=\"color:#0D47A1\">  <b>Genetic Algorithms for Reactive <br><br> Force Fields</b> </font>\n",
    "</center>\n",
    "\n",
    "<br> "
   ]
  },
  {
   "cell_type": "markdown",
   "metadata": {},
   "source": [
    "<br>\n",
    "<br>\n",
    "<br>\n",
    "<font size='6' style=\"color:#00A6D6\">  <b>Molecular Dynamics and \"Classical\" Force Fields</b> </font>"
   ]
  },
  {
   "cell_type": "markdown",
   "metadata": {},
   "source": [
    "Molecular Dynamics (MD) is a computer simulation method for studying the physical movement of atoms and molecules. The atoms are allowed to interact for a fixed period of time. In the most common version the trajectories of atoms and molecules are determined  by numerical solving Newton's equations of motion for a system of interacting particles, where forces between particles and their potential energies are often calculated using force fields. \n",
    "\n",
    "A force field is a description by which the particles in the simulation will interact. Force fields may be defined at many levels of physical accuracy, the most commonly used are based on Molecular Mechanics (MM), quantum mechanics (QM) and hybrid potentials (MM/QM) where the bulk system is treated classically but a small region is treated as quantum systems.\n",
    "\n",
    "The energy of a set of particles is conformed by the sum of different energies: the energy bond between two particles, the energy angle between three particles, the energy of dihedral of four particles, the van der Waals Interaction and the coulomb interaction among each couple of particles. In MM approach, the potential energy U intramolecule is modeled by springs with force constants (k). Figure 1 shows the parameter of U:\n",
    "\n",
    "\\begin{equation}\n",
    "U_{intra} = U_{bond} + U_{angle} + U_{dihedral}\n",
    "\\end{equation}\n",
    "\n",
    "\\begin{equation}\n",
    "U_{bond} = \\frac {1}{2} \\sum_{bonds}{k_{ij}^r (r_{ij} - r_{eq})^2}\n",
    "\\end{equation}\n",
    "\n",
    "\\begin{equation}\n",
    "U_{angle} = \\frac {1}{2} \\sum_{angles}{k_{ij}^\\theta (\\theta_{ij} - \\theta_{eq})^2}\n",
    "\\end{equation}\n",
    "\n",
    "\\begin{equation}\n",
    "U_{dihedral} = \\frac {1}{2} \\sum_{angles}{k_{ij}^{\\phi m} (1 + \\cos(m\\phi_{ijkl} - \\gamma_{m}))^2}\n",
    "\\end{equation}"
   ]
  },
  {
   "cell_type": "markdown",
   "metadata": {},
   "source": [
    "![Figure 1](Fig1GARFfield.png)"
   ]
  },
  {
   "cell_type": "markdown",
   "metadata": {},
   "source": [
    "The non covalent interactions are dispersion and electic energies. Dispersion or van der Waals interaction is modeled as:\n",
    "\n",
    "\\begin{equation}\n",
    "U_{vdW} = 4\\varepsilon \\left[\\left(\\frac {\\sigma}{r_{ij}}\\right)^{12} - \\left(\\frac {\\sigma}{r_{ij}})\\right)^6\\right]\n",
    "\\end{equation}\n",
    "\n",
    "And Coulomb energy is in traditional way:\n",
    "\n",
    "\\begin{equation}\n",
    "U_{Coulomb} = \\frac {q_i q_j}{4 \\pi \\epsilon_0 r_{ij}} \n",
    "\\end{equation}\n",
    "\n",
    "Force field parametrization includes the determination of suitable values for the force constants of bonds kb, angles kθ and dihedral angles kφ as well as their associated natural values b0, θ0 and the phase for the dihedral angles δ0. These bonded and nonbonded force field parameters are fitted against either experimental data or, more commonly, data obtained from electronic structure calculations. An example of force field is MM2 is shown in Figure 2. \n",
    " "
   ]
  },
  {
   "cell_type": "markdown",
   "metadata": {},
   "source": [
    "![Figure 2](Fig2GARFfield.png)"
   ]
  },
  {
   "cell_type": "markdown",
   "metadata": {},
   "source": [
    "Consider the challenge for a force field design for the first 100 elements of the periodic table. The number of unique bonds that can be formed from any two elements is 5050, under the assumption that bond-strech force constants depends only of the atomic bonded atoms, 5050 force constants. If we carry out the same analysis for bond angles we need 10 E6  parameter to complete the force field and for the torsion are neccesary 10 E8 different terms. Chemical knowledge reduce that numbers.\n",
    "\n",
    "If just we focus in organic molecules (H, C, N, O, F, Si, P, Cl, Br, and I) the different kind of bonds (single, double, and tiple bonds) have different parameters. The same is true for torsional terms. If we want to include metals, the different oxidation states give rise to differences in structural and energetic properties.\n",
    "\n",
    "There are several available force fields: AMBER, CHARMM, OPL, DREIDING, UFF, each one was developed for differents applications (proteins, polymers, fluids) their parameters are  typically determined by quantum chemical calculations combined with thermophisical data. Each force field consider limited number of atoms.\n",
    "How do I pick the best force field for a specific problem? The process of testing the utility of a force field is known as validation. Periodically in the literature, papers comparing a wide variety of force  fields for well defined problems and the results can be a quite useful guide in order to choose an adequate force field.\n",
    "\n",
    "The main advantage of MD with \"classical\" force fields is the speed with which calculations can be performed, enabling large systems to be treated. One of the main limitations are unable to describe the details of bond breaking/forming  bonds because no model the electron tranfer.\n",
    "\n",
    "Hybrid methods have been designed for modelling the electron tranfer denoted as Quantum Mechanics-Molecular Mechanics (QM/MM) DFT calculations are added to experimental data for fitting the parameter involved in the interaction of two different atoms. The only limitations to do this approach is the computational resources that are requiered to ensure the accuracity of data. For example ONIOM method include several layers of level of theory: high level (QM) in the central part of the structure and intermediate and external layers classical force field."
   ]
  },
  {
   "cell_type": "markdown",
   "metadata": {},
   "source": [
    "<br>\n",
    "<br>\n",
    "<br>\n",
    "<font size='6' style=\"color:#00A6D6\">  <b>Reactive Force Field (ReaxFF)</b> </font>"
   ]
  },
  {
   "cell_type": "markdown",
   "metadata": {
    "collapsed": true
   },
   "source": [
    "![Figure 3](Fig3GARFfield.png)"
   ]
  },
  {
   "cell_type": "markdown",
   "metadata": {},
   "source": [
    "The reactive force-field (ReaxFF) interatomic potential is a computational tool for exploring, developing materials properties . Its methods are based on the principles of QM (Figure 3).  In ReaxFF the interatomic potential describes reactive events through polarizable charge descriptions and a bond-order formalism, where bond order is empirically calculated from interatomic distances. The electronic interactions driving chemical bonding are treated implicitly, allowing the method to simulate reaction chemistry.\n",
    "\n",
    "Combustion, heterogeneous catalysis, atomic layer deposition, proton diffusion membranes, conformational dynamics of biomolecules are some applications of reactive force fields.\n",
    "\n",
    "The energy contributions to the ReaxFF potential have similar terms as non reactive force fields, however due to the dynamic bonding scheme, these potentials must be modified. Then the total energy for ReaxFF is:\n",
    " \n",
    "\\begin{equation}\n",
    "E_{sys} = E_{bond} + E_{angle} + E_{tors} + E_{vdW} + E_{Coulomb} + E_{over} + E_{specific}\n",
    "\\end{equation} \n",
    "\n",
    " E bond describes the energy associated with forming bonds between atoms.\n",
    " E angle and E tors are the energies associated to valence angles strain and torsional angle strain.\n",
    " E vdWaals and E Coulomb are dispersive and electrostatic  contributions calculated between all atoms , regardeless of conectivity bond-order\n",
    " E over is an energy of penalty preventing the over cordination of atoms, which is based on atomic valence rules.\n",
    " E specif represent system specific terms that are not generally included.\n",
    " \n",
    "Bond order is calculate directly from interatomic distance using the empirical formula:\n",
    "\n",
    "\\begin{equation}\n",
    " BO_{ij} = BO_{ij}^{\\sigma} + BO_{ij}^{\\pi} + BO_{ij}^{\\pi \\pi} = exp \\left[p_{bo1}\\left(\\frac{r_{ij}}{r_0^\\sigma}\\right)^{P_{bo2}}\\right] + exp \\left[p_{bo3}\\left(\\frac{r_{ij}}{r_0^\\pi}\\right)^{P_{bo4}}\\right] + exp \\left[p_{bo5}\\left(\\frac{r_{ij}}{r_0^{\\pi\\pi}}\\right)^{P_{bo6}}\\right]\n",
    "\\end{equation}\n",
    "\n",
    "BO is the bond order between atoms i and j rij is interatomic distance, ro terms are equilibrium bond lengths and pbo terms are empirical parameters. This BO formula allows the force field to predict reaction barriers. \n",
    "\n",
    "Under this consideration bond energy is calculated as:\n",
    "\n",
    "\\begin{equation}\n",
    "E_{bond} = - D_e^\\sigma BO_{ij}^\\sigma exp \\left[p_{bo1} (1-(BO_{ij}^\\sigma)^{P_{bo2}} \\right] - D_e^\\pi BO_{ij}^\\pi - D_e^{\\pi \\pi} BO_{ij}^{\\pi \\pi}\n",
    "\\end{equation}\n",
    "\n",
    "\\begin{equation}\n",
    "E_{angle} = \\left[1 - exp \\left(\\lambda_3 BO_a^3 \\right)\\right]\\left[1 - exp \\left(\\lambda_3 BO_b^3 \\right)\\right]\\left[ k_a - k_a exp \\left[-k_b\\left(\\phi - \\phi_0 \\right)^2 \\right]\\right]\n",
    "\\end{equation}\n",
    "\n",
    "\\begin{equation}\n",
    "E_{tors} = f_{10}(BO_{ij}, BO_{jk}, BO_{kl}) sin \\Theta_{ijk} \\left[\\frac{1}{2} V_1 (1+cos \\omega_{ijk}) + \\frac{1}{2} V_2 exp \\left[p_{tor1}(2-BO_{jk}^\\pi - f_{11} (\\delta_j, \\delta_k)^2\\right](1 - cos 2 \\omega_{ijkl}) + \\frac{1}{2} V_3 (1 + cos 3 \\omega_{ijkl})\\right]\n",
    "\\end{equation}\n",
    "\n",
    "Contrary to classical force fields where van der Waals interactions are computed only between non-bonded atom-pairs, in RexFF all atom pairs, bonded or nondonded, contribute to van der Waals energy. The reason for this is that exclusion of bonded pairs from van der Waals energy computation would result in discontinuities on the potential energy surfaces as bonds are formed or broken.\n",
    "\n",
    "\\begin{equation}\n",
    "E_{vdW}= D_{ij} \\left[exp \\left[\\alpha_{ij}(1+ \\frac{f_{13}(r_{ij})}{r_{vdW}}\\right] - 2 exp \\left[1/2\\alpha_{ij}\\left[1+ \\frac{f_{13}(r_{ij})}{r_{vdW}}\\right]\\right] \\right]  \n",
    "\\end{equation}\n",
    "\n",
    "\\begin{equation}\n",
    "f_{13}(r_{ij})=[r_{ij}^{\\lambda_{29}}+(1/\\lambda_w)^{1/\\lambda_{28}}]^{1/\\lambda_{28}}\n",
    "\\end{equation}\n",
    "\n",
    "For Coulomb interaction all atom pairs are taking into account but just within the non bonding radio. There are no long-range electrostatic interactions.\n",
    "\n",
    "\\begin{equation}\n",
    "E_{Coulomb}= C \\frac{q_i q_j}{\\left[r_{ij}^3-(1/\\gamma_{ij}^3)^{1/3}\\right]}\n",
    "\\end{equation}\n",
    "\n",
    "\\begin{equation}\n",
    "E_{over} = f(BO_{ij})\\Delta_i \\frac{1}{1+exp(\\lambda \\Delta_i)}\n",
    "\\end{equation}\n",
    " \n",
    "\\begin{equation}\n",
    "\\Delta_i = Valency_i - \\sum_{j=1}^{neighbours} {BO_{ij}}\n",
    "\\end{equation}\n",
    "\n",
    "One important feature in ReaxFF approach is the partial charge in each atom.  In most MD methods charge of each atom is fixed during simulation. In ReaxFF the partial charge is calculated each step. The bond order parameter and the partical charge of each atom, let to calculate \"transitions states\" between initial and final stable configurations (see Figure 4) "
   ]
  },
  {
   "cell_type": "markdown",
   "metadata": {
    "collapsed": true
   },
   "source": [
    "![Figure 4](Fig4GARFfield.png)"
   ]
  },
  {
   "cell_type": "markdown",
   "metadata": {},
   "source": [
    "A ReaxFF description exits for different elements of periodic table, however one cannot simply use these parameter in any combination and expect to obtain satisfactory transferability. In comparison with popular non reactive force-fields, in ReaxFF each element has the same parameters regardless chemical enviroment but the lack of transferability; for example a water molecule in gas-phase has different behavior respect to liquid state.  \n",
    "\n",
    "It have been found two main \"branches\" of systems which parameters have trasferability called \"combustion\" and \"aqueous\".  For system that cannot be classified into these branches an extensive fitting is required. \n",
    "\n",
    "Each new ReaxFF force field have been developed for solving specific systems with specific elements. There are several ReaxFF reported in literature and available in LAMMPS and ADF software. For example CHOSMoNiLiBFPN.ff. this force field takes into account the elements put in its name. If your system has these elements, great! in principle you can use it, but if you system has atoms not included in the same force field... it is neccesary parametrize. One problem is that you can't mix force fields in a easy way because parameter are fitted for particular systems.\n",
    "\n",
    "The optimization of the parameters in ReaxFF is done such that the properties predicted by ReaxFF matches with a set of quantum chemical or experimental data. Most parameter development is curently perfomed using single parabolic search method, however, this method is not the most effcient for sampling complex force fields and has a singnificant risk tof becoming ensnared in a local minima. Moreover,the ability of the ReaxFF force field to accurately represent the interactions between atoms in such complex molecular systems needs approximately 100 parameters per atom.\n",
    "Figure 3, shows an example of ReaxFF force field: CHOMSMoLiBFPN.ff   \n"
   ]
  },
  {
   "cell_type": "code",
   "execution_count": 1,
   "metadata": {},
   "outputs": [
    {
     "name": "stdout",
     "output_type": "stream",
     "text": [
      "cat: ffield: No such file or directory\r\n"
     ]
    }
   ],
   "source": [
    "%cat ffield"
   ]
  },
  {
   "cell_type": "markdown",
   "metadata": {},
   "source": [
    "<br>\n",
    "<br>\n",
    "<br>\n",
    "<font size='6' style=\"color:#00A6D6\"><b>Genetic Algorithm-based to Reactive Force Field</b> </font>"
   ]
  },
  {
   "cell_type": "markdown",
   "metadata": {},
   "source": [
    "A good parameter set of a force field should be complete and transferable, which implies that the molecular mechanics model not only has the full parameters for most of the compounds, but also the parameters could be used in fittering binding of different atoms in different oxidation states and molecular neighborhoods.\n",
    "\n",
    "For achieving this, is necessary simultaneous fitting of several parameters -per atom- describing intermolecular interactions may significantly improve the accuracy of force field description. Likewise, the reference data set needs to encompass all situations relevant to determining all of these parameters (and all combinations of them) uniquely. Such simultaneous force field fitting represents a technically challenging multiobjective optimization of the parameters of different physical nature.\n",
    "\n",
    "The procedure of parameterization is to optimize the cost function χ2, which is a sum of square of all deviations of calculated values, yi, respect to reference values, y0i. ωi in the equation are the weighting factors, which balance the contributions of different kinds of molecular properties. How to set ideal weights for different properties is also crucial for the success of the parameterization. \n",
    "\n",
    "\\begin{equation}\n",
    "\\chi^2 = \\sum \\omega_i^2 (y_i -y_i^0)^2\n",
    "\\end{equation}\n",
    "\n",
    "That molecular properties mainly include energy difference of two conformations, vibrational frequency, Hessian matrix, enthalpy of vaporization, density, dipole moment as well as the geometory parameters: bond length, bond angle, and torsional angles. The reference data of the molecular properties are mainly from experiments and now quantum mechanical calculations have become a more and more important resource, and some force fields rely mainly on high‐level ab initio data for the parameterization.\n",
    "\n",
    "Since these weights are quite arbitrary, cost function cannot be compared across different data sets, and not even within the same data set if the weights are varied. The only strictly meaningful application of an merit function value is its relative minimization within one series of optimization runs, for one and the same reference data set. \n",
    "\n",
    "Then, the question is: how can we obtain the high‐quality force field parameters from the high‐quality data?  It is a Multi-objective optimization problem.\n",
    "\n",
    "No single solution exists that simultaneously optimizes each objective. In that case, the objective functions are said to be conflicting, and there exists a (possibly infinite) number of Pareto optimal solutions. A solution is called nondominated, Pareto optimal, Pareto efficient or noninferior, if none of the objective functions can be improved in value without degrading some of the other objective values. Without additional subjective preference information, all Pareto optimal solutions are considered equally good.\n",
    "\n",
    "A solution in X and the corresponding outcome is called Pareto optimal, if there does not exist another solution that dominates it. The set of Pareto optimal outcomes is often called the Pareto front, Pareto frontier, or Pareto boundary.\n",
    "\n",
    "The best set of parameters that minimizes χ2 can be achieved through a wide kind of optimization techniques including least‐squares fitting, simplex and multidimensional Newton–Raphson methodology, gradient methods, evolutionary algorithms and stochastic methods.\n",
    "\n",
    "Gradient methods, as the simplest and most straightforward methods, are very useful if the molecular properties in question are a simple and clear functional of the force‐field parameter. However, in most of the cases, the first and the second derivatives are very difficult to calculate, even with numerical methods.\n",
    "\n",
    "The metropolis Monte Carlo (MMC) method is used to randomly sample the parameter space insearch for the global minimum, by using the simulated annealing (SA) procedure of Kirkpatrick et.al. to optimize the ReaxFF force field. \n",
    "\n",
    "Among various optimization algorithms available for this purpose, evolutionary methods such as genetic algorithms\n",
    "(GAs) provide a powerful technique that can efficiently deal with complex, especially in the case of simultaneous fitting of the force field terms against extensive reference data. \n",
    "\n",
    "A Genetic Algorithm model, proposed by Jaramillo-Botero in the paper of 2014, is called GARFfield. A hybrid evolutionary, gradient based parameter optimization framework that allows multiobjetive fitness function specification, provides capabilities to enable exploration of multiple Pareto-optimal solutions, via hill -climbing and weight randomization of objetive functions. Nowadays there are several works reported in the literature using GA methods. \n",
    "\n",
    "The GA algorithm for force fields follow the basic scheme: a pool of trial solutions (“individuals”) that differ in a\n",
    "subset of their parameters whose values are randomly chosen within definite ranges are evaluated using a fitness function, the current performance of the individuals is measured (relative to each other, or relative to a known goal). Iteratively improved upon by two basic mechanisms: Information is interchanged between individuals via “crossover” in a “mating” process (two new individuals are generated from two old ones) and single individuals are modified by “mutation”, i.e., by changing part of the individual by some amount. The better ones get better chances to enter new rounds of mating, while the worse ones are eventually deleted from to pool. "
   ]
  },
  {
   "cell_type": "markdown",
   "metadata": {},
   "source": [
    "![Figure 5](Fig5GARFfield.png)"
   ]
  },
  {
   "cell_type": "markdown",
   "metadata": {},
   "source": [
    "![Figure 6](Fig6GARFfield.png)"
   ]
  },
  {
   "cell_type": "markdown",
   "metadata": {},
   "source": [
    "GARFfield includes improved convergence via hybrid global and local gradient-based optimization, local minima avoidance via hill-climbing, application of relative restraints for handling nonequilibrium definitions, and support for multiobjective optimization, among others.\n",
    "\n",
    "To improve convergence and speed of convergence, GARFfield includes an option to automatically switch from the evolutionary GA scheme to a conjugate gradient (Polak−Ribiere version) (CG) optimizer, when the GA is within the quadratic basin of a local minima in the PES. The CG operates on the single best accumulated force field string at the time of the GA−CG switch and proceeds by calculating the directional gradients from central finite differences of the force field parameters applied on the fitness function over the full training set. The CG option may be activated when the error change between iterations is within a threshold tolerance. GARFfield also provides a hill-climbing option that may be used to periodically test the existence of other minima.\n",
    "\n",
    "To minimize the k objective functions, GARFfield computes an error between the force field predicted values (using the random parameters produced by the evolutionary algorithm) and the corresponding data from quantum mechanics (or experiment). These error functions are available in GARFfield: Un-normalized weight (MSE = mean square error\n",
    "and SIWE = squared inverse weighted error) and normalized weight (RMSE = root mean square error, MPE = mean percent\n",
    "error, and NRMSE = normalized RMSE).\n",
    "\n",
    "In recent works GA are combined with other machine learning methods to improve the optimization of force fields."
   ]
  },
  {
   "cell_type": "markdown",
   "metadata": {},
   "source": [
    "<br>\n",
    "<br>\n",
    "<br>\n",
    "<font size='6' style=\"color:#00A6D6\"><b>References</b> </font>"
   ]
  },
  {
   "cell_type": "markdown",
   "metadata": {},
   "source": [
    "1. D. Frenkel, and B. Smit. Understanding molecular simulation: from algorithms to applications. Academic Press, San Diego 2nd edition, 2002\n",
    "\n",
    "2. C. J. Cramer. Essentials of Computational Chemistry. Theory and Models 2nd edition, WILEY 2004\n",
    "\n",
    "3. F. Jensen. Introduction to computational Chemistry 2nd edition, WILEY, 2007\n",
    "\n",
    "4. Allinger N. M., Conformational analysis. 130. MM2. A hydrocarbon force field utilizing V1 and V2 torsional terms, J. Am. Chem. Soc., (1977), 99 (25), 8127-8134\n",
    "\n",
    "5. van Duin A. C. T., Dasgupta S.,Lorant F., Goddard W. A., ReaxFF:  A Reactive Force Field for Hydrocarbons, J. Phys. Chem. A, 2001, 105 (41), 9396–9409\n",
    "\n",
    "6. Chenoweth K., van Duin A.C.T. and Goddard W. A. ReaxFF reactive force field for molecular dynamics simulations of hydrocarbon oxidation. J. Phys. Chem. A,(2008) 112, 1040-1053 \n",
    "\n",
    "7. Aktulga H. M., Pandit S. A., van Duin A.C.T., Grama A. Y., Reactive Molecular Dynamics: Numerial Methods and Algorithmic Techniques, SIAM J. Sci. Comput., 34, 1, (2012), 1-9\n",
    "\n",
    "8. Senftle T. P., Hong S., Islam M. M., Kylasa S. B., Zheng Y., Shin Y. K., Junkermeier C., Engel-Herbert R., Janik M. J., Aktulga H. M., Verstraelen T., Grama A., van Duin A.C.T. The ReaxFF reactive force-field: development, applications and future directions. npj Computational Materials (2016), 2, 15011\n",
    "\n",
    "9.  Iype E.,  Hütter M., Jansen A. P. J., Nedea S. V., Rindt C. C. M. Parameterization of a reactive force field using a Monte Carlo algorithm. Vol.34,13,(2013) 1143-1154\n",
    "\n",
    "10. Handley C.M. and Deeth R. J, A Multi-Objective Approach to Force Field Optimization: Structures and Spin State Energetics of d6 Fe(II) Complexes, J. Chem. Theory Comput., 2012, 8 (1), 194–202\n",
    "\n",
    "11. Jaramillo-Botero A., Naserifar S.a dn Goddard W. A., General Multiobjetive Dorce Field Optimization FRamework, with Application to Reactive Force Fields for Silicon Carbide,  J. Chem. Theory Comput. (2014), 10, 1426 \n",
    "\n",
    "12. http://www.wag.caltech.edu/home/ajaramil/GARFfield.html [accessed March 30 2018].\n",
    "\n",
    "13. https://www.researchgate.net/publication/235964029_FITTING_REACTIVE_FORCE_FIELDS_USING_GENETIC_ALGORITHMS [accessed Apr 02 2018]."
   ]
  },
  {
   "cell_type": "code",
   "execution_count": null,
   "metadata": {},
   "outputs": [],
   "source": []
  }
 ],
 "metadata": {
  "kernelspec": {
   "display_name": "Python 3",
   "language": "python",
   "name": "python3"
  },
  "language_info": {
   "codemirror_mode": {
    "name": "ipython",
    "version": 3
   },
   "file_extension": ".py",
   "mimetype": "text/x-python",
   "name": "python",
   "nbconvert_exporter": "python",
   "pygments_lexer": "ipython3",
   "version": "3.6.5"
  }
 },
 "nbformat": 4,
 "nbformat_minor": 2
}
