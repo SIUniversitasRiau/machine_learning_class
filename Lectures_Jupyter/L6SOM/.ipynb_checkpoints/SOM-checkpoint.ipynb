{
 "cells": [
  {
   "cell_type": "markdown",
   "metadata": {},
   "source": [
    "# Self organizing maps (SOM)"
   ]
  },
  {
   "cell_type": "markdown",
   "metadata": {},
   "source": [
    "How to order this color mesh automatically?"
   ]
  },
  {
   "cell_type": "markdown",
   "metadata": {},
   "source": [
    "![SOM 1](SOM1.png)"
   ]
  },
  {
   "cell_type": "markdown",
   "metadata": {},
   "source": [
    "Self organizing maps is a discretized representation of the multidimensional input space of the training samples in a 2D map of nodes and is therefore a method to do dimensionality reduction. One application of SOM is about poverty information in the world. http://neupy.com/2017/12/09/sofm_applications.html"
   ]
  },
  {
   "cell_type": "markdown",
   "metadata": {},
   "source": [
    "![SOM 2](SOM2.png)"
   ]
  },
  {
   "cell_type": "markdown",
   "metadata": {},
   "source": [
    "In this kind of artificial neuronal network there is no hidden layers, only the input and output layers. The map space is defined beforehand, usually as a finite two-dimensional region where nodes are arranged in a regular hexagonal or rectangular grid. There are no lateral connections between nodes within the lattice.\n",
    "\n",
    "Each node has a specific topological position (an x, y coordinate in the lattice) and contains a vector of weights of the same dimension as the input vectors.The scheme of SOM is:"
   ]
  },
  {
   "cell_type": "markdown",
   "metadata": {},
   "source": [
    "![SOM 3](SOM3.png)"
   ]
  },
  {
   "cell_type": "markdown",
   "metadata": {},
   "source": [
    "## Algorithm"
   ]
  },
  {
   "cell_type": "markdown",
   "metadata": {},
   "source": [
    "* Initialize each node’s weights randomly\n",
    "* Choose a random vector from training data and present it to the SOM\n",
    "* Calculate the distance between the input vector and the weights of each node, according with "
   ]
  },
  {
   "cell_type": "markdown",
   "metadata": {},
   "source": [
    "\\begin{equation*}\n",
    "D = \\sqrt {\\sum_{i=1}^n{(x_i-W_i)}^2} \n",
    "\\end{equation*}"
   ]
  },
  {
   "cell_type": "markdown",
   "metadata": {},
   "source": [
    "Compare the distances among all nodes, the lowest value distance is defined as the Best Matching Unit (BMU)."
   ]
  },
  {
   "cell_type": "markdown",
   "metadata": {},
   "source": [
    "* Calculate the neighborhood radius around BMU by "
   ]
  },
  {
   "cell_type": "markdown",
   "metadata": {},
   "source": [
    "\\begin{equation*}\n",
    "\\sigma (t) = \\sigma_0 \\exp \\left(\\frac {-t}{\\lambda}\\right) \n",
    "\\end{equation*}"
   ]
  },
  {
   "cell_type": "markdown",
   "metadata": {},
   "source": [
    "\\begin{equation*}\n",
    "\\lambda = \\frac {n}{ln \\sigma_0} \n",
    "\\end{equation*}"
   ]
  },
  {
   "cell_type": "markdown",
   "metadata": {},
   "source": [
    "Where $\\sigma$ $(t)$ is the radius of neighborhood at step $t$, $t$ is the iteration step, $\\sigma_0$ is the initial radius of the complete array nodes, $\\lambda$ is a normalization factor, and $n$ is total number of iterations. "
   ]
  },
  {
   "cell_type": "markdown",
   "metadata": {},
   "source": [
    "![SOM 4](SOM4.png)"
   ]
  },
  {
   "cell_type": "markdown",
   "metadata": {},
   "source": [
    "In each iteration the neighborhood changes of size."
   ]
  },
  {
   "cell_type": "markdown",
   "metadata": {},
   "source": [
    "![SOM 5a](SOM5a.png)"
   ]
  },
  {
   "cell_type": "markdown",
   "metadata": {},
   "source": [
    "* Change the weights of each node in the BMU’s neighborhood in order to become more like the BMU. Nodes closest to the BMU are altered more than the nodes furthest away in  the neighborhood according to"
   ]
  },
  {
   "cell_type": "markdown",
   "metadata": {},
   "source": [
    "\\begin{equation*}\n",
    " W (t+1) =  W(t) + \\Theta(t) L(t) \\left ( x - W(t) \\right) \n",
    "\\end{equation*}"
   ]
  },
  {
   "cell_type": "markdown",
   "metadata": {},
   "source": [
    "\\begin{equation*}\n",
    "L(t) = L_0 \\exp \\left ( \\frac{-t}{\\lambda} \\right)\n",
    "\\end{equation*}"
   ]
  },
  {
   "cell_type": "markdown",
   "metadata": {},
   "source": [
    "\\begin{equation*}\n",
    "\\Theta (t) = \\exp \\Biggl( \\frac{-d^2}{2 \\sigma^2(t)} \\Biggr)  \n",
    "\\end{equation*}"
   ]
  },
  {
   "cell_type": "markdown",
   "metadata": {},
   "source": [
    "Where $W(t+1)$  is the new weight, $W(t)$ the old weight, $L_0$ is called learning factor, $d$ is the distance between a neighbor node and BMU, and $\\Theta$ is a factor that takes into account the neighborhood."
   ]
  },
  {
   "cell_type": "markdown",
   "metadata": {},
   "source": [
    "* Repeat steps for all vectors over the enough iterations for convergence"
   ]
  },
  {
   "cell_type": "markdown",
   "metadata": {},
   "source": [
    "The node obtain a color according with the factor $D$ and the chosen vector. If a node is close to a BMU it is similar but it is far way, then it is different. "
   ]
  },
  {
   "cell_type": "markdown",
   "metadata": {},
   "source": [
    "![SOM6a](SOM6a.png)"
   ]
  },
  {
   "cell_type": "markdown",
   "metadata": {},
   "source": [
    "![SOM6b](SOM6b.png)"
   ]
  },
  {
   "cell_type": "markdown",
   "metadata": {},
   "source": [
    "There are some details that is from the criteria as well as how many neurons to use?, which is the value of learning rate $L_0$ ?, and how many iterations $n$ are needed."
   ]
  },
  {
   "cell_type": "markdown",
   "metadata": {},
   "source": [
    "## A code example"
   ]
  },
  {
   "cell_type": "code",
   "execution_count": 12,
   "metadata": {},
   "outputs": [],
   "source": [
    "import numpy as np\n",
    "\n",
    "raw_data = np.random.randint(0, 255, (3, 100)) #array of 100 vectors with 3D coordinates\n",
    "# which values goesto 0 and 255\n",
    "\n",
    "network_dimensions = np.array([5, 5])\n",
    "n_iterations = 2000\n",
    "init_learning_rate = 0.01\n",
    "  # establish size variables based on data\n",
    "m = raw_data.shape[0]\n",
    "n = raw_data.shape[1]\n",
    "\n",
    "  # weight matrix (i.e. the SOM) needs to be one m-dimensional vector for each neuron in the SOM\n",
    "net = np.random.random((network_dimensions[0], network_dimensions[1], m))\n",
    "\n",
    "  # initial neighbourhood radius\n",
    "init_radius = max(network_dimensions[0], network_dimensions[1]) / 2\n",
    "  # radius decay parameter\n",
    "time_constant = n_iterations / np.log(init_radius)\n",
    "\n",
    "normalise_data = True\n",
    "# if True, assume all data is on common scale\n",
    "# if False, normalise to [0 1] range along each column\n",
    "normalise_by_column = False\n",
    "\n",
    "# we want to keep a copy of the raw data for later\n",
    "data = raw_data\n",
    "\n",
    "# check if data needs to be normalised\n",
    "if normalise_data:\n",
    "    if normalise_by_column:\n",
    "        # normalise along each column\n",
    "        col_maxes = raw_data.max(axis=0)\n",
    "        data = raw_data / col_maxes[np.newaxis, :]\n",
    "    else:\n",
    "        # normalise entire dataset\n",
    "        data = raw_data / data.max()\n",
    "# select a trainig example at random\n",
    "t = data[:, np.random.randint(0, n)].reshape(np.array([m, 1]))\n"
   ]
  },
  {
   "cell_type": "code",
   "execution_count": 13,
   "metadata": {},
   "outputs": [],
   "source": [
    "def find_bmu(t, net, m):\n",
    "    \"\"\"\n",
    "        Find the best matching unit for a given vector, t, in the SOM\n",
    "        Returns: a (bmu, bmu_idx) tuple where bmu is the high-dimensional BMU\n",
    "                 and bmu_idx is the index of this vector in the SOM\n",
    "    \"\"\"\n",
    "    bmu_idx = np.array([0, 0])\n",
    "    # set the initial minimum distance to a huge number\n",
    "    min_dist = np.iinfo(np.int).max\n",
    "    # calculate the high-dimensional distance between each neuron and the input\n",
    "    for x in range(net.shape[0]):\n",
    "        for y in range(net.shape[1]):\n",
    "            w = net[x, y, :].reshape(m, 1)\n",
    "            # don't bother with actual Euclidean distance, to avoid expensive sqrt operation\n",
    "            sq_dist = np.sum((w - t) ** 2)\n",
    "            if sq_dist < min_dist:\n",
    "                min_dist = sq_dist\n",
    "                bmu_idx = np.array([x, y])\n",
    "    # get vector corresponding to bmu_idx\n",
    "    bmu = net[bmu_idx[0], bmu_idx[1], :].reshape(m, 1)\n",
    "    # return the (bmu, bmu_idx) tuple\n",
    "    return (bmu, bmu_idx)\n",
    "\n",
    "# find its Best Matching Unit\n",
    "bmu, bmu_idx = find_bmu(t, net, m)"
   ]
  },
  {
   "cell_type": "code",
   "execution_count": 15,
   "metadata": {},
   "outputs": [
    {
     "ename": "SyntaxError",
     "evalue": "invalid syntax (<ipython-input-15-237a846fab00>, line 14)",
     "output_type": "error",
     "traceback": [
      "\u001b[0;36m  File \u001b[0;32m\"<ipython-input-15-237a846fab00>\"\u001b[0;36m, line \u001b[0;32m14\u001b[0m\n\u001b[0;31m    r = decay_radius(init_radius, i, time_constant)\u001b[0m\n\u001b[0m    ^\u001b[0m\n\u001b[0;31mSyntaxError\u001b[0m\u001b[0;31m:\u001b[0m invalid syntax\n"
     ]
    }
   ],
   "source": [
    "# decay the SOM parameters\n",
    "\n",
    "for i in range(n_iterations):\n",
    "   \n",
    "    def decay_radius(init_radius, i, time_constant):\n",
    "       return init_radius * np.exp(-i / time_constant)\n",
    "    \n",
    "    def decay_learning_rate(initial_learning_rate, i, n_iterations):\n",
    "       return initial_learning_rate * np.exp(-i / n_iterations)\n",
    "    \n",
    "    def calculate_influence(distance, radius):\n",
    "       return np.exp(-distance / (2* (radius**2))\n",
    "\n",
    "r = decay_radius(init_radius, i, time_constant)\n",
    "l = decay_learning_rate(init_learning_rate, i, n_iterations)\n",
    "\n",
    "# now we know the BMU, update its weight vector to move closer to input\n",
    "# and move its neighbours in 2-D space closer\n",
    "# by a factor proportional to their 2-D distance from the BMU\n",
    "    for x in range(net.shape[0]):\n",
    "        for y in range(net.shape[1]):\n",
    "           w = net[x, y, :].reshape(m, 1)\n",
    "        # get the 2-D distance (again, not the actual Euclidean distance)\n",
    "           w_dist = np.sum((np.array([x, y]) - bmu_idx) ** 2)\n",
    "        # if the distance is within the current neighbourhood radius\n",
    "        if w_dist <= r:\n",
    "            # calculate the degree of influence (based on the 2-D distance)\n",
    "            influence = calculate_influence(w_dist, r)\n",
    "            # now update the neuron's weight using the formula:\n",
    "            # new w = old w + (learning rate * influence * delta)\n",
    "            # where delta = input vector (t) - old w\n",
    "            new_w = w + (l * influence * (t - w))\n",
    "            # commit the new weight\n",
    "            net[x, y, :] = new_w.reshape(1, 3)\n"
   ]
  },
  {
   "cell_type": "code",
   "execution_count": null,
   "metadata": {},
   "outputs": [],
   "source": []
  },
  {
   "cell_type": "code",
   "execution_count": null,
   "metadata": {},
   "outputs": [],
   "source": []
  },
  {
   "cell_type": "markdown",
   "metadata": {},
   "source": [
    "At the end the initial color mesh looks as "
   ]
  },
  {
   "cell_type": "markdown",
   "metadata": {},
   "source": [
    "![SOM 7](SOM7.png)"
   ]
  },
  {
   "cell_type": "markdown",
   "metadata": {},
   "source": [
    "Other nice 3D representations of SOM are in:"
   ]
  },
  {
   "cell_type": "markdown",
   "metadata": {},
   "source": [
    "https://demogng.de/js/demogng.html?model=SOM "
   ]
  },
  {
   "cell_type": "markdown",
   "metadata": {},
   "source": [
    "## References"
   ]
  },
  {
   "cell_type": "markdown",
   "metadata": {},
   "source": [
    "http://www.ai-junkie.com/ann/som/som1.html (info)\n",
    "\n",
    "https://www.youtube.com/watch?v=_Euwc9fWBJw (video)\n",
    "\n",
    "http://neupy.com/2017/12/09/sofm_applications.html (applications)\n",
    "\n",
    "http://blog.yhat.com/posts/self-organizing-maps-2.html  (python code)\n",
    "\n",
    "https://demogng.de/js/demogng.html?model=SOM  (demo 3D)\n",
    "\n",
    "\n",
    "\n",
    "\n",
    "\n"
   ]
  }
 ],
 "metadata": {
  "kernelspec": {
   "display_name": "Python 3",
   "language": "python",
   "name": "python3"
  },
  "language_info": {
   "codemirror_mode": {
    "name": "ipython",
    "version": 3
   },
   "file_extension": ".py",
   "mimetype": "text/x-python",
   "name": "python",
   "nbconvert_exporter": "python",
   "pygments_lexer": "ipython3",
   "version": "3.6.5"
  }
 },
 "nbformat": 4,
 "nbformat_minor": 2
}
