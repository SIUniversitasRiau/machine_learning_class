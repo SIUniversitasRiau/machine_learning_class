{
 "cells": [
  {
   "cell_type": "markdown",
   "metadata": {},
   "source": [
    "<center>\n",
    "<font size='7' style=\"color:#0D47A1\">  <b>Self organizing maps (SOM)</b> </font>\n",
    "</center>\n",
    "\n",
    "<hr style= \"height:3px;\">\n",
    "<br> "
   ]
  },
  {
   "cell_type": "markdown",
   "metadata": {},
   "source": [
    "<br>\n",
    "<br>\n",
    "<br>\n",
    "<font size='6' style=\"color:#00A6D6\">  <b>Introduction</b> </font>"
   ]
  },
  {
   "cell_type": "markdown",
   "metadata": {},
   "source": [
    "\n"
   ]
  },
  {
   "cell_type": "markdown",
   "metadata": {},
   "source": [
    "Self-organizing maps is a discretized representation of the multidimensional input space of the training samples in a 2D map of nodes and is therefore a method to do dimensionality reduction. \n",
    "\n"
   ]
  },
  {
   "cell_type": "markdown",
   "metadata": {},
   "source": [
    "An example of the use of SOM in art:"
   ]
  },
  {
   "cell_type": "code",
   "execution_count": 1,
   "metadata": {},
   "outputs": [
    {
     "data": {
      "text/html": [
       "<iframe src=\"https://player.vimeo.com/video/181111922\" width=\"640\" height=\"126\" frameborder=\"0\" allowfullscreen></iframe>"
      ],
      "text/plain": [
       "<IPython.core.display.HTML object>"
      ]
     },
     "execution_count": 1,
     "metadata": {},
     "output_type": "execute_result"
    }
   ],
   "source": [
    "from IPython.display import HTML\n",
    "\n",
    "HTML('<iframe src=\"https://player.vimeo.com/video/181111922\" width=\"640\" height=\"126\" frameborder=\"0\" allowfullscreen></iframe>')"
   ]
  },
  {
   "cell_type": "markdown",
   "metadata": {},
   "source": [
    "In this algorithm, the map space is defined beforehand, usually as a finite two-dimensional region where nodes are arranged in a regular hexagonal or rectangular grid. There are no lateral connections between nodes within the lattice.\n",
    "\n",
    "Each node has a specific topological position (an x, y coordinate in the lattice) and contains a vector of weights of the same dimension as the input vectors. The scheme of SOM is:"
   ]
  },
  {
   "cell_type": "markdown",
   "metadata": {},
   "source": [
    "![SOM 3](SOM3.png)"
   ]
  },
  {
   "cell_type": "markdown",
   "metadata": {},
   "source": [
    "<br>\n",
    "<br>\n",
    "<br>\n",
    "<font size='6' style=\"color:#00A6D6\">  <b>Algorithm</b> </font>"
   ]
  },
  {
   "cell_type": "markdown",
   "metadata": {},
   "source": [
    "* Initialize each node’s weights randomly\n",
    "* Choose a random vector from training data and present it to the SOM\n",
    "* Calculate the distance between the input vector and the weights of each node, according to "
   ]
  },
  {
   "cell_type": "markdown",
   "metadata": {},
   "source": [
    "\\begin{equation*}\n",
    "D = \\sqrt {\\sum_{i=1}^n{(x_i-W_i)}^2} \n",
    "\\end{equation*}"
   ]
  },
  {
   "cell_type": "markdown",
   "metadata": {},
   "source": [
    "Compare the distances among all nodes, the lowest value distance is defined as the Best Matching Unit (BMU)."
   ]
  },
  {
   "cell_type": "markdown",
   "metadata": {},
   "source": [
    "* Calculate the neighborhood radius around BMU by "
   ]
  },
  {
   "cell_type": "markdown",
   "metadata": {},
   "source": [
    "\\begin{equation*}\n",
    "\\sigma (t) = \\sigma_0 \\exp \\left(\\frac {-t}{\\lambda}\\right) \n",
    "\\end{equation*}"
   ]
  },
  {
   "cell_type": "markdown",
   "metadata": {},
   "source": [
    "\\begin{equation*}\n",
    "\\lambda = \\frac {n}{ln \\sigma_0} \n",
    "\\end{equation*}"
   ]
  },
  {
   "cell_type": "markdown",
   "metadata": {},
   "source": [
    "Where $\\sigma$ $(t)$ is the radius of neighborhood at step $t$, $t$ is the iteration step, $\\sigma_0$ is the initial radius of the complete array nodes, $\\lambda$ is a normalization factor, and $n$ is total number of iterations. "
   ]
  },
  {
   "cell_type": "markdown",
   "metadata": {},
   "source": [
    "![SOM 4](SOM4.png)"
   ]
  },
  {
   "cell_type": "markdown",
   "metadata": {},
   "source": [
    "In each iteration the neighborhood changes of size."
   ]
  },
  {
   "cell_type": "markdown",
   "metadata": {},
   "source": [
    "![SOM 5a](SOM5a.png)"
   ]
  },
  {
   "cell_type": "markdown",
   "metadata": {},
   "source": [
    "* Change the weights of each node in the BMU’s neighborhood in order to become more like the BMU. Nodes closest to the BMU are altered more than the nodes furthest away in  the neighborhood according to"
   ]
  },
  {
   "cell_type": "markdown",
   "metadata": {},
   "source": [
    "\\begin{equation*}\n",
    " W (t+1) =  W(t) + \\Theta(t) L(t) \\left ( x - W(t) \\right) \n",
    "\\end{equation*}"
   ]
  },
  {
   "cell_type": "markdown",
   "metadata": {},
   "source": [
    "\\begin{equation*}\n",
    "L(t) = L_0 \\exp \\left ( \\frac{-t}{\\lambda} \\right)\n",
    "\\end{equation*}"
   ]
  },
  {
   "cell_type": "markdown",
   "metadata": {},
   "source": [
    "\\begin{equation*}\n",
    "\\Theta (t) = \\exp \\Biggl( \\frac{-d^2}{2 \\sigma^2(t)} \\Biggr)  \n",
    "\\end{equation*}"
   ]
  },
  {
   "cell_type": "markdown",
   "metadata": {},
   "source": [
    "Where $W(t+1)$  is a new weight, $W(t)$ the old weight, $L_0$ is called learning factor, $d$ is the distance between a neighbor node and BMU, and $\\Theta$ is a factor that takes into account the neighborhood."
   ]
  },
  {
   "cell_type": "markdown",
   "metadata": {},
   "source": [
    "* Repeat steps for all vectors over enough iterations for convergence"
   ]
  },
  {
   "cell_type": "markdown",
   "metadata": {},
   "source": [
    "The node obtains a color according to with the factor $D$ and the chosen vector. If a node is close to a BMU it is similar but it is far away, then it is different.  "
   ]
  },
  {
   "cell_type": "markdown",
   "metadata": {},
   "source": [
    "![SOM6a](SOM6a.png)"
   ]
  },
  {
   "cell_type": "markdown",
   "metadata": {},
   "source": [
    "![SOM6b](SOM6b.png)"
   ]
  },
  {
   "cell_type": "markdown",
   "metadata": {},
   "source": [
    "<br>\n",
    "<br>\n",
    "<br>\n",
    "<font size='6' style=\"color:#00A6D6\">  <b>Strengths/Weaknesses</b> </font>"
   ]
  },
  {
   "cell_type": "code",
   "execution_count": null,
   "metadata": {},
   "outputs": [],
   "source": []
  },
  {
   "cell_type": "markdown",
   "metadata": {},
   "source": [
    "<br>\n",
    "<br>\n",
    "<br>\n",
    "<font size='6' style=\"color:#00A6D6\">  <b>Summary</b> </font>"
   ]
  },
  {
   "cell_type": "markdown",
   "metadata": {},
   "source": [
    "Unsupervised learning algorithm.\n",
    "\n",
    "Used for clustering.\n",
    "\n",
    "Dimension reduction."
   ]
  },
  {
   "cell_type": "markdown",
   "metadata": {},
   "source": [
    "<br>\n",
    "<br>\n",
    "<br>\n",
    "<font size='6' style=\"color:#00A6D6\">  <b>Example</b> </font>"
   ]
  },
  {
   "cell_type": "markdown",
   "metadata": {},
   "source": [
    "Imagine that you are in a valley where the hight is determined by a fractal. The group of people is spread across the land and everyone wants to stay in sight of the others at similar hight.\n",
    "In this example, the people is our nodes. We will use the SOM algorithm to make the people gather in clusters.\n",
    "\n",
    "You will first find the person with similar hight, and call that person the BMU. Now everyone that is close enought to be seen, will be your local nbh and they will approach the BMU. This local nbh will shrink with time. Notice that when there are abrupt changes on hight the BMU may not be in your local nbh.\n",
    "\n",
    "The following algorithm implements the previous stragety, we will use the nbh radius as before but the weights will be updated with the rule $ W(t+1) =  W(t) + c \\left ( x - W(t) \\right) $."
   ]
  },
  {
   "cell_type": "code",
   "execution_count": 37,
   "metadata": {},
   "outputs": [
    {
     "data": {
      "application/vnd.jupyter.widget-view+json": {
       "model_id": "80ea9d977cb24a9f81fc3b689bed18af",
       "version_major": 2,
       "version_minor": 0
      },
      "text/plain": [
       "HBox(children=(IntProgress(value=0, max=500), HTML(value='')))"
      ]
     },
     "metadata": {},
     "output_type": "display_data"
    },
    {
     "name": "stdout",
     "output_type": "stream",
     "text": [
      "\n"
     ]
    },
    {
     "data": {
      "image/png": "[encoded data removed]",
      "text/plain": [
       "<Figure size 432x288 with 1 Axes>"
      ]
     },
     "metadata": {},
     "output_type": "display_data"
    }
   ],
   "source": [
    "%matplotlib inline\n",
    "\n",
    "import numpy as np\n",
    "from tqdm import tqdm_notebook\n",
    "import matplotlib.pyplot as plt\n",
    "import cmath\n",
    "from copy import copy\n",
    "\n",
    "class node():\n",
    "    \"\"\"The points consist of a coordinate and the color.\"\"\"\n",
    "    def __init__(self,x,y,v):\n",
    "        self.c = x+y*1j\n",
    "        self.v = v\n",
    "\n",
    "\n",
    "def mandelbrot( h,w, maxit=500 ):\n",
    "    \"\"\"Returns an image of a variant of the Mandelbrot fractal of size (h,w).\"\"\"\n",
    "    y,x = np.ogrid[ -1.5:1.5:h*1j, -1:2:w*1j ]\n",
    "    c = x+y*1j\n",
    "    z = c\n",
    "    divtime = maxit + np.zeros(z.shape, dtype=int)\n",
    "\n",
    "    for i in tqdm_notebook(range(maxit)):\n",
    "        z = z**5 + c\n",
    "        diverge = z*np.conj(z) > 2**2            # who is diverging\n",
    "        div_now = diverge & (divtime==maxit)  # who is diverging now\n",
    "        divtime[div_now] = i                  # note when\n",
    "        z[diverge] = 2                        # avoid diverging too much\n",
    "\n",
    "    return divtime\n",
    "\n",
    "\n",
    "Mandel = mandelbrot(500,500)\n",
    "\n",
    "fig = plt.figure()\n",
    "\n",
    "ax = fig.add_axes([0., 0., 1., 1., ])\n",
    "# Hide grid lines\n",
    "ax.grid(False)\n",
    "ax.axis('off')\n",
    "# Hide axes ticks\n",
    "\n",
    "plt.imshow(Mandel)\n",
    "plt.show()"
   ]
  },
  {
   "cell_type": "markdown",
   "metadata": {},
   "source": [
    "This will be the valley."
   ]
  },
  {
   "cell_type": "code",
   "execution_count": 38,
   "metadata": {},
   "outputs": [],
   "source": [
    "###Here we define the auxiliary functions        \n",
    "def decay(iteration,totalIterations):\n",
    "    return np.exp(-iteration/totalIterations)\n",
    "\n",
    "def findNbh(indexX,indexY,nodes, sigma):# a local NBH of nodes[indexX][indexY] of radius sigma\n",
    "    copyNodes=np.ravel(nodes)\n",
    "    OrderedCopyNodes = sorted(copyNodes, key=lambda item: abs(item.c- nodes[indexX][indexY].c))\n",
    "    ind = 0\n",
    "    initial = OrderedCopyNodes[ind]\n",
    "    while abs(initial.c- nodes[indexX][indexY].c)<sigma:\n",
    "        ind = ind + 1\n",
    "        initial = OrderedCopyNodes[ind]\n",
    "    return OrderedCopyNodes[:ind]\n",
    "def findBMU(indexX,indexY,nodes):# the node that has closest value\n",
    "    copyNodes=np.ravel(nodes)\n",
    "    OrderedCopyNodes = sorted(copyNodes, key=lambda item: abs(item.v- nodes[indexX][indexY].v))\n",
    "    return OrderedCopyNodes[:5][1]\n",
    "\n"
   ]
  },
  {
   "cell_type": "markdown",
   "metadata": {},
   "source": [
    "In the following image, the nodes are the people."
   ]
  },
  {
   "cell_type": "code",
   "execution_count": 41,
   "metadata": {},
   "outputs": [
    {
     "data": {
      "application/vnd.jupyter.widget-view+json": {
       "model_id": "599f144f5baa446ebbb050b953271ae8",
       "version_major": 2,
       "version_minor": 0
      },
      "text/plain": [
       "HBox(children=(IntProgress(value=0, max=36), HTML(value='')))"
      ]
     },
     "metadata": {},
     "output_type": "display_data"
    },
    {
     "name": "stdout",
     "output_type": "stream",
     "text": [
      "\n"
     ]
    },
    {
     "data": {
      "image/png": "[encoded data removed]",
      "text/plain": [
       "<Figure size 432x288 with 1 Axes>"
      ]
     },
     "metadata": {},
     "output_type": "display_data"
    },
    {
     "data": {
      "application/vnd.jupyter.widget-view+json": {
       "model_id": "1db5b32086f843c4a9dd7df1770700fe",
       "version_major": 2,
       "version_minor": 0
      },
      "text/plain": [
       "HBox(children=(IntProgress(value=0, max=4), HTML(value='')))"
      ]
     },
     "metadata": {},
     "output_type": "display_data"
    },
    {
     "name": "stdout",
     "output_type": "stream",
     "text": [
      "--In iteration  0  we have radius  100.0\n"
     ]
    },
    {
     "data": {
      "image/png": "[encoded data removed]",
      "text/plain": [
       "<Figure size 432x288 with 1 Axes>"
      ]
     },
     "metadata": {},
     "output_type": "display_data"
    },
    {
     "name": "stdout",
     "output_type": "stream",
     "text": [
      "--In iteration  1  we have radius  31.62277660168379\n"
     ]
    },
    {
     "data": {
      "image/png": "[encoded data removed]",
      "text/plain": [
       "<Figure size 432x288 with 1 Axes>"
      ]
     },
     "metadata": {},
     "output_type": "display_data"
    },
    {
     "name": "stdout",
     "output_type": "stream",
     "text": [
      "--In iteration  2  we have radius  9.999999999999998\n"
     ]
    },
    {
     "data": {
      "image/png": "[encoded data removed]",
      "text/plain": [
       "<Figure size 432x288 with 1 Axes>"
      ]
     },
     "metadata": {},
     "output_type": "display_data"
    },
    {
     "name": "stdout",
     "output_type": "stream",
     "text": [
      "--In iteration  3  we have radius  3.1622776601683786\n"
     ]
    },
    {
     "data": {
      "image/png": "[encoded data removed]",
      "text/plain": [
       "<Figure size 432x288 with 1 Axes>"
      ]
     },
     "metadata": {},
     "output_type": "display_data"
    },
    {
     "name": "stdout",
     "output_type": "stream",
     "text": [
      "\n"
     ]
    }
   ],
   "source": [
    "\n",
    "### We are going to select nodes on the Mandelbrot set\n",
    "nodes = np.zeros((6,6),dtype=object)\n",
    "for x_values in range(2,8):\n",
    "    for y_values in range(2,8):\n",
    "        nodes[x_values-2][y_values-2]=node(50*x_values,50*y_values,Mandel[50*x_values,50*y_values])\n",
    "        \n",
    "fig = plt.figure()\n",
    "\n",
    "ax = fig.add_axes([0., 0., 1., 1., ])\n",
    "# Hide grid lines\n",
    "ax.grid(False)\n",
    "ax.axis('off')\n",
    "# Hide axes ticks\n",
    "\n",
    "plt.imshow(Mandel)\n",
    "\n",
    "copyNodes = np.ravel(nodes)\n",
    "for mark in tqdm_notebook(copyNodes):\n",
    "    plt.scatter(mark.c.real, mark.c.imag, s=5, c='red', marker='o')\n",
    "\n",
    "plt.show()\n",
    "\n",
    "\n",
    "\n",
    "### parameters\n",
    "numberOfIterations = 4\n",
    "sigma_0=100\n",
    "L_0=.1\n",
    "\n",
    "for iteration in tqdm_notebook(range(numberOfIterations)):\n",
    "    dist = sigma_0*decay(iteration,numberOfIterations/np.log(sigma_0))\n",
    "    print('--In iteration ', iteration,' we have radius ',dist)\n",
    "    for i in range(20):\n",
    "        x_values = np.random.randint(0,6)\n",
    "        y_values = np.random.randint(0,6)\n",
    "        BMUc = findBMU(x_values,y_values,nodes).c\n",
    "        for nearNodes in findNbh(x_values,y_values,nodes, dist):\n",
    "            nearNodes.c  = nearNodes.c + L_0*(BMUc-nearNodes.c)\n",
    "            nearNodes.v = Mandel[int(nearNodes.c.real)%500, int(nearNodes.c.imag)%500]       \n",
    "    Julia2 = copy(Mandel)\n",
    "    fig = plt.figure()\n",
    "\n",
    "    ax = fig.add_axes([0., 0., 1., 1., ])\n",
    "    # Hide grid lines\n",
    "    ax.grid(False)\n",
    "    ax.axis('off')\n",
    "    # Hide axes ticks\n",
    "\n",
    "    plt.imshow(Julia2)\n",
    "\n",
    "    copyNodes = np.ravel(nodes)\n",
    "    for mark in copyNodes:\n",
    "        plt.scatter(mark.c.real, mark.c.imag, s=5, c='red', marker='o')\n",
    "    plt.show()\n"
   ]
  },
  {
   "cell_type": "code",
   "execution_count": null,
   "metadata": {},
   "outputs": [],
   "source": []
  },
  {
   "cell_type": "code",
   "execution_count": null,
   "metadata": {},
   "outputs": [],
   "source": []
  },
  {
   "cell_type": "markdown",
   "metadata": {},
   "source": [
    "You can find other nice 3D representations of SOM in:"
   ]
  },
  {
   "cell_type": "markdown",
   "metadata": {},
   "source": [
    "https://demogng.de/js/demogng.html?model=SOM "
   ]
  },
  {
   "cell_type": "markdown",
   "metadata": {},
   "source": [
    "<br>\n",
    "<br>\n",
    "<br>\n",
    "<font size='6' style=\"color:#00A6D6\">  <b>Homework</b> </font>\n",
    "\n",
    "This homework is based on https://github.com/ANNetGPGPU/ANNetGPGPU\n",
    "\n",
    "Modify the code so that:\n",
    "    \n",
    "    The nodes don't move. \n",
    "\n",
    "    Instead, after we select a node, we calculate a radius of a nbh and then we change the color (weight) of the pixels in that nbh to the color in the center.\n",
    "    The code should have just a couple of iterations.\n",
    "    On each iteration only 4 nodes are selected randomly.\n",
    "\n"
   ]
  },
  {
   "cell_type": "markdown",
   "metadata": {},
   "source": [
    "Try modifying the background image, use a picture or modify the way we color the local nbh. \n",
    "![SOM 8](SOM8.png)"
   ]
  },
  {
   "cell_type": "markdown",
   "metadata": {},
   "source": [
    "    \n",
    "Try this code with other images.\n",
    "<br>\n",
    "<br>\n",
    "<br>\n",
    "<font size='6' style=\"color:#00A6D6\">  <b>References</b> </font>"
   ]
  },
  {
   "cell_type": "markdown",
   "metadata": {},
   "source": [
    "http://www.ai-junkie.com/ann/som/som1.html (info)\n",
    "\n",
    "https://www.youtube.com/watch?v=_Euwc9fWBJw (video)\n",
    "\n",
    "http://neupy.com/2017/12/09/sofm_applications.html (applications)\n",
    "\n",
    "http://blog.yhat.com/posts/self-organizing-maps-2.html  (python code)\n",
    "\n",
    "https://demogng.de/js/demogng.html?model=SOM  (demo 3D)\n",
    "\n",
    "https://github.com/ANNetGPGPU/ANNetGPGPU (art application)\n",
    "\n",
    "\n",
    "\n",
    "\n"
   ]
  },
  {
   "cell_type": "code",
   "execution_count": null,
   "metadata": {},
   "outputs": [],
   "source": []
  }
 ],
 "metadata": {
  "kernelspec": {
   "display_name": "Python 3",
   "language": "python",
   "name": "python3"
  },
  "language_info": {
   "codemirror_mode": {
    "name": "ipython",
    "version": 3
   },
   "file_extension": ".py",
   "mimetype": "text/x-python",
   "name": "python",
   "nbconvert_exporter": "python",
   "pygments_lexer": "ipython3",
   "version": "3.6.5"
  }
 },
 "nbformat": 4,
 "nbformat_minor": 2
}
