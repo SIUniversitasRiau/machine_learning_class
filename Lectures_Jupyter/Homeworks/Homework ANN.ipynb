{
 "cells": [
  {
   "cell_type": "markdown",
   "metadata": {},
   "source": [
    "<br>\n",
    "<br>\n",
    "<br>\n",
    "<font size='6' style=\"color:#00A6D6\">  <b>Homework</b> </font>\n",
    "\n",
    "\n",
    "The equation $\\phi(x) = f_n(f_{n_1}(f_{n-2}...(f_1(\\boldsymbol{x}))...))$ for us implies $f_i(y)=\\sigma_i(W_iy+B_i)$, $\\{W_i\\}$ matrices, $\\{B_i\\}$ vectors, and $\\{\\sigma_i\\}$  non linear functions. Assume that all $\\sigma_i$ are the identity function.  Find $W_0$ and $B_0$ such that $\\phi (x) = W_0x+B_0$.\n",
    "\n",
    "\n",
    "Assume that $\\sigma_n$ is sigmoid and the output of $W_n$ is one dimensional, can you describe how is this case related to SVM?\n",
    "\n",
    "\n",
    "Consider the points $\\{(0,0,0),(0,0,1),(0,1,0),(1,0,0),(0,1,1),(1,1,0),(1,0,1),(1,1,1)\\}.$ Find the coefficients of a function $\\phi = f_1(f_2(f_3...(f_n(\\boldsymbol{x}))...)), f_i(x)=\\sigma(Wx+b)$ that classifies  $\\{(0,0,0),(0,0,1),(0,1,0),(1,0,0),\\}$ as 0 and  $\\{(0,1,1),(1,1,0),(1,0,1),(1,1,1)\\}$ as 1. \n"
   ]
  },
  {
   "cell_type": "code",
   "execution_count": null,
   "metadata": {},
   "outputs": [],
   "source": []
  },
  {
   "cell_type": "markdown",
   "metadata": {},
   "source": [
    "1) Note that after two iterations we have $$\\sigma_2(W_2\\sigma_1(W_1x+B_1)+B_2)=(W_2(W_1x+B_1)+B_2),$$ $$=W_2W_1x+(W_2B_1+B_2),$$"
   ]
  },
  {
   "cell_type": "markdown",
   "metadata": {},
   "source": [
    "By induction we get: $\\phi(x) =  W_n\\dot\\ldots\\dot W_1 x+ W_n\\dot\\ldots\\dot W_2 B1+ W_n\\dot\\ldots\\dot W_3 B2+\\cdots+W_{n}B_{n-1}+B_n $"
   ]
  },
  {
   "cell_type": "markdown",
   "metadata": {},
   "source": [
    "2) We have a linear transformation into R and if the value is bigger than a constant we classify the object as color one and if not we classify it as color two. This is equivalent to find a hyperplane and classify things according to the region in which they are located."
   ]
  },
  {
   "cell_type": "markdown",
   "metadata": {},
   "source": [
    "3) Apply sigmoid to x+y+z-1\n"
   ]
  },
  {
   "cell_type": "code",
   "execution_count": null,
   "metadata": {},
   "outputs": [],
   "source": []
  }
 ],
 "metadata": {
  "kernelspec": {
   "display_name": "Python 3",
   "language": "python",
   "name": "python3"
  },
  "language_info": {
   "codemirror_mode": {
    "name": "ipython",
    "version": 3
   },
   "file_extension": ".py",
   "mimetype": "text/x-python",
   "name": "python",
   "nbconvert_exporter": "python",
   "pygments_lexer": "ipython3",
   "version": "3.6.5"
  }
 },
 "nbformat": 4,
 "nbformat_minor": 2
}
