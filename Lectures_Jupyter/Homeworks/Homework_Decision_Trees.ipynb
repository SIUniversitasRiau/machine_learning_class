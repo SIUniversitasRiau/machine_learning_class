{
 "cells": [
  {
   "cell_type": "markdown",
   "metadata": {},
   "source": [
    "The following code imports the Wine data set.\n"
   ]
  },
  {
   "cell_type": "code",
   "execution_count": 2,
   "metadata": {},
   "outputs": [],
   "source": [
    "from sklearn.datasets import load_wine\n",
    "data = load_wine()"
   ]
  },
  {
   "cell_type": "markdown",
   "metadata": {},
   "source": [
    "Data Set Characteristics.\n",
    "\n",
    "Number of Instances: 178 (50 in each of three classes)\n",
    "\n",
    "Number of Attributes: 13 numeric, predictive attributes and the class\n",
    "\n",
    "Attribute Information:\n",
    " \t\n",
    "    Alcohol\n",
    "    Malic acid\n",
    "    Ash\n",
    "    Alcalinity of ash\n",
    "    Magnesium\n",
    "    Total phenols\n",
    "    Flavanoids\n",
    "    Nonflavanoid phenols\n",
    "    Proanthocyanins\n",
    "    Color intensity\n",
    "    Hue\n",
    "    OD280/OD315 of diluted wines\n",
    "    Proline\n",
    "class: class_0, class_1, class_2."
   ]
  },
  {
   "cell_type": "markdown",
   "metadata": {},
   "source": [
    "Use the notebook \"First Machine Learning Notebook\" and repeat the analysis with the Wine dataset. Note that now we have more attibutes. "
   ]
  },
  {
   "cell_type": "markdown",
   "metadata": {},
   "source": [
    "### Source\n",
    "https://scikit-learn.org/stable/modules/generated/sklearn.datasets.load_wine.html\n",
    "\n",
    "https://scikit-learn.org/stable/datasets/index.html#wine-dataset\n",
    "\n",
    "Lichman, M. (2013). UCI Machine Learning Repository [http://archive.ics.uci.edu/ml]. Irvine, CA: University of California, School of Information and Computer Science."
   ]
  },
  {
   "cell_type": "code",
   "execution_count": null,
   "metadata": {},
   "outputs": [],
   "source": []
  }
 ],
 "metadata": {
  "kernelspec": {
   "display_name": "Python 3",
   "language": "python",
   "name": "python3"
  },
  "language_info": {
   "codemirror_mode": {
    "name": "ipython",
    "version": 3
   },
   "file_extension": ".py",
   "mimetype": "text/x-python",
   "name": "python",
   "nbconvert_exporter": "python",
   "pygments_lexer": "ipython3",
   "version": "3.6.5"
  }
 },
 "nbformat": 4,
 "nbformat_minor": 2
}
