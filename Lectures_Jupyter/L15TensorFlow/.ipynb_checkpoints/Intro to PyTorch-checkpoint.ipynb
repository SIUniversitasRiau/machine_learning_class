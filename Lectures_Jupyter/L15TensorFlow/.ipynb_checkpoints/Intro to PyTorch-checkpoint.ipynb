{
 "cells": [
  {
   "cell_type": "markdown",
   "metadata": {},
   "source": [
    "# What is PyTorch?\n",
    "\n",
    "It’s a Python based scientific computing package targeted at two sets of audiences:\n",
    "\n",
    "- A replacement for NumPy to use the power of GPUs\n",
    "- a deep learning research platform that provides maximum flexibility and speed\n",
    "\n",
    "---"
   ]
  },
  {
   "cell_type": "markdown",
   "metadata": {},
   "source": [
    "## A replacement for NumPy to use the power of GPUs..."
   ]
  },
  {
   "cell_type": "code",
   "execution_count": 1,
   "metadata": {},
   "outputs": [],
   "source": [
    "import torch as t\n",
    "\n",
    "# Tensors\n",
    "a = t.tensor([1,2,3])\n",
    "# Can specify type during construction\n",
    "a = t.tensor([1,2,3], dtype=t.half)"
   ]
  },
  {
   "cell_type": "code",
   "execution_count": 2,
   "metadata": {},
   "outputs": [
    {
     "data": {
      "text/plain": [
       "tensor([ 1.,  2.,  3.], dtype=torch.float16)"
      ]
     },
     "execution_count": 2,
     "metadata": {},
     "output_type": "execute_result"
    }
   ],
   "source": [
    "# Can cast to different types once constructed\n",
    "a"
   ]
  },
  {
   "cell_type": "code",
   "execution_count": 3,
   "metadata": {},
   "outputs": [
    {
     "data": {
      "text/plain": [
       "tensor([ 1.,  2.,  3.], dtype=torch.float64)"
      ]
     },
     "execution_count": 3,
     "metadata": {},
     "output_type": "execute_result"
    }
   ],
   "source": [
    "a.double()"
   ]
  },
  {
   "cell_type": "code",
   "execution_count": 4,
   "metadata": {},
   "outputs": [
    {
     "data": {
      "text/plain": [
       "tensor([ 1.,  2.,  3.])"
      ]
     },
     "execution_count": 4,
     "metadata": {},
     "output_type": "execute_result"
    }
   ],
   "source": [
    "a.float()"
   ]
  },
  {
   "cell_type": "code",
   "execution_count": 5,
   "metadata": {},
   "outputs": [
    {
     "data": {
      "text/plain": [
       "tensor([ 1,  2,  3], dtype=torch.int16)"
      ]
     },
     "execution_count": 5,
     "metadata": {},
     "output_type": "execute_result"
    }
   ],
   "source": [
    "a.short()"
   ]
  },
  {
   "cell_type": "code",
   "execution_count": 6,
   "metadata": {},
   "outputs": [
    {
     "data": {
      "text/plain": [
       "tensor([ 1,  2,  3])"
      ]
     },
     "execution_count": 6,
     "metadata": {},
     "output_type": "execute_result"
    }
   ],
   "source": [
    "a.long()"
   ]
  },
  {
   "cell_type": "markdown",
   "metadata": {},
   "source": [
    "| Data type                | dtype\t                       |CPU tensor\t        |GPU tensor               |\n",
    "|:------------------------:|:-----------------------------:|:------------------:|:-----------------------:|\n",
    "| 32-bit floating point    | torch.float32 or torch.float  | torch.FloatTensor  | torch.cuda.FloatTensor  |\n",
    "| 64-bit floating point    | torch.float64 or torch.double | torch.DoubleTensor | torch.cuda.DoubleTensor |\n",
    "| 16-bit floating point\t   | torch.float16 or torch.half   | torch.HalfTensor   | torch.cuda.HalfTensor   |\n",
    "| 8-bit integer (unsigned) | torch.uint8                   | torch.ByteTensor   | torch.cuda.ByteTensor   |\n",
    "| 8-bit integer (signed)   | torch.int8\t                   | torch.CharTensor   | torch.cuda.CharTensor   |\n",
    "| 16-bit integer (signed)  | torch.int16 or torch.short\t   | torch.ShortTensor  | torch.cuda.ShortTensor  |\n",
    "| 32-bit integer (signed)  | torch.int32 or torch.int\t   | torch.IntTensor    | torch.cuda.IntTensor    |\n",
    "| 64-bit integer (signed)  | torch.int64 or torch.long\t   | torch.LongTensor   | torch.cuda.LongTensor   |\n"
   ]
  },
  {
   "cell_type": "markdown",
   "metadata": {},
   "source": [
    "### Converting between Tensors and Numpy Arrays...\n",
    "Tensor -> Numpy"
   ]
  },
  {
   "cell_type": "code",
   "execution_count": 7,
   "metadata": {},
   "outputs": [
    {
     "data": {
      "text/plain": [
       "'torch.FloatTensor'"
      ]
     },
     "execution_count": 7,
     "metadata": {},
     "output_type": "execute_result"
    }
   ],
   "source": [
    "import numpy as np\n",
    "\n",
    "x = t.Tensor([1,2,3.])\n",
    "x.type()"
   ]
  },
  {
   "cell_type": "code",
   "execution_count": 8,
   "metadata": {},
   "outputs": [
    {
     "data": {
      "text/plain": [
       "numpy.ndarray"
      ]
     },
     "execution_count": 8,
     "metadata": {},
     "output_type": "execute_result"
    }
   ],
   "source": [
    "y = x.numpy()\n",
    "type(y)"
   ]
  },
  {
   "cell_type": "markdown",
   "metadata": {},
   "source": [
    "However, they point to the same place in memory..."
   ]
  },
  {
   "cell_type": "code",
   "execution_count": 9,
   "metadata": {},
   "outputs": [
    {
     "data": {
      "text/plain": [
       "tensor([ 1.,  2.,  3.])"
      ]
     },
     "execution_count": 9,
     "metadata": {},
     "output_type": "execute_result"
    }
   ],
   "source": [
    "x"
   ]
  },
  {
   "cell_type": "code",
   "execution_count": 10,
   "metadata": {},
   "outputs": [
    {
     "data": {
      "text/plain": [
       "array([1., 2., 3.], dtype=float32)"
      ]
     },
     "execution_count": 10,
     "metadata": {},
     "output_type": "execute_result"
    }
   ],
   "source": [
    "y"
   ]
  },
  {
   "cell_type": "code",
   "execution_count": 11,
   "metadata": {},
   "outputs": [
    {
     "data": {
      "text/plain": [
       "tensor([ 11.,  12.,  13.])"
      ]
     },
     "execution_count": 11,
     "metadata": {},
     "output_type": "execute_result"
    }
   ],
   "source": [
    "x += 10\n",
    "x"
   ]
  },
  {
   "cell_type": "code",
   "execution_count": 12,
   "metadata": {},
   "outputs": [
    {
     "data": {
      "text/plain": [
       "array([11., 12., 13.], dtype=float32)"
      ]
     },
     "execution_count": 12,
     "metadata": {},
     "output_type": "execute_result"
    }
   ],
   "source": [
    "y"
   ]
  },
  {
   "cell_type": "markdown",
   "metadata": {},
   "source": [
    "Numpy -> Tensor"
   ]
  },
  {
   "cell_type": "code",
   "execution_count": 13,
   "metadata": {},
   "outputs": [
    {
     "data": {
      "text/plain": [
       "numpy.ndarray"
      ]
     },
     "execution_count": 13,
     "metadata": {},
     "output_type": "execute_result"
    }
   ],
   "source": [
    "y = np.array([5,4,3])\n",
    "type(y)"
   ]
  },
  {
   "cell_type": "code",
   "execution_count": 14,
   "metadata": {},
   "outputs": [
    {
     "data": {
      "text/plain": [
       "torch.Tensor"
      ]
     },
     "execution_count": 14,
     "metadata": {},
     "output_type": "execute_result"
    }
   ],
   "source": [
    "x = t.from_numpy(y)\n",
    "type(x)"
   ]
  },
  {
   "cell_type": "code",
   "execution_count": 15,
   "metadata": {},
   "outputs": [
    {
     "data": {
      "text/plain": [
       "array([5, 4, 3])"
      ]
     },
     "execution_count": 15,
     "metadata": {},
     "output_type": "execute_result"
    }
   ],
   "source": [
    "y"
   ]
  },
  {
   "cell_type": "code",
   "execution_count": 16,
   "metadata": {},
   "outputs": [
    {
     "data": {
      "text/plain": [
       "tensor([ 5,  4,  3], dtype=torch.int32)"
      ]
     },
     "execution_count": 16,
     "metadata": {},
     "output_type": "execute_result"
    }
   ],
   "source": [
    "x"
   ]
  },
  {
   "cell_type": "code",
   "execution_count": 17,
   "metadata": {},
   "outputs": [
    {
     "data": {
      "text/plain": [
       "array([15, 14, 13])"
      ]
     },
     "execution_count": 17,
     "metadata": {},
     "output_type": "execute_result"
    }
   ],
   "source": [
    "y += 10\n",
    "y"
   ]
  },
  {
   "cell_type": "code",
   "execution_count": 18,
   "metadata": {},
   "outputs": [
    {
     "data": {
      "text/plain": [
       "tensor([ 15,  14,  13], dtype=torch.int32)"
      ]
     },
     "execution_count": 18,
     "metadata": {},
     "output_type": "execute_result"
    }
   ],
   "source": [
    "x"
   ]
  },
  {
   "cell_type": "markdown",
   "metadata": {},
   "source": [
    "### Speed and Efficiency\n",
    "Torch is faster than Numpy"
   ]
  },
  {
   "cell_type": "code",
   "execution_count": 19,
   "metadata": {},
   "outputs": [],
   "source": [
    "import time\n",
    "def timer(f, trials=5):\n",
    "    avg_time = 0\n",
    "    for i in range(trials):\n",
    "        start = time.time()\n",
    "        f()\n",
    "        stop = time.time()\n",
    "        avg_time += (stop - start)/trials\n",
    "    return avg_time"
   ]
  },
  {
   "cell_type": "code",
   "execution_count": 20,
   "metadata": {},
   "outputs": [],
   "source": [
    "np_arr = np.random.rand(10000,10000)\n",
    "t_arr = t.rand((10000,10000))"
   ]
  },
  {
   "cell_type": "code",
   "execution_count": 21,
   "metadata": {},
   "outputs": [
    {
     "name": "stdout",
     "output_type": "stream",
     "text": [
      "type(t_arr) =  <class 'torch.Tensor'>\n",
      "t_arr.shape =  torch.Size([10000, 10000])\n"
     ]
    }
   ],
   "source": [
    "print('type(t_arr) = ', type(t_arr))\n",
    "print('t_arr.shape = ', t_arr.shape)"
   ]
  },
  {
   "cell_type": "code",
   "execution_count": 22,
   "metadata": {},
   "outputs": [
    {
     "name": "stdout",
     "output_type": "stream",
     "text": [
      "type(np_arr) =  <class 'numpy.ndarray'>\n",
      "np_arr.shape =  (10000, 10000)\n"
     ]
    }
   ],
   "source": [
    "print('type(np_arr) = ', type(np_arr))\n",
    "print('np_arr.shape = ', np_arr.shape)"
   ]
  },
  {
   "cell_type": "code",
   "execution_count": 23,
   "metadata": {},
   "outputs": [
    {
     "data": {
      "text/plain": [
       "0.26843976974487305"
      ]
     },
     "execution_count": 23,
     "metadata": {},
     "output_type": "execute_result"
    }
   ],
   "source": [
    "timer(lambda: t_arr*t_arr)"
   ]
  },
  {
   "cell_type": "code",
   "execution_count": 24,
   "metadata": {},
   "outputs": [
    {
     "data": {
      "text/plain": [
       "0.5182872295379638"
      ]
     },
     "execution_count": 24,
     "metadata": {},
     "output_type": "execute_result"
    }
   ],
   "source": [
    "timer(lambda: np_arr*np_arr)"
   ]
  },
  {
   "cell_type": "markdown",
   "metadata": {},
   "source": [
    "What about optimizing with some class methods?"
   ]
  },
  {
   "cell_type": "code",
   "execution_count": 25,
   "metadata": {},
   "outputs": [],
   "source": [
    "def exp1():\n",
    "    y = t_arr * t_arr"
   ]
  },
  {
   "cell_type": "code",
   "execution_count": 26,
   "metadata": {},
   "outputs": [],
   "source": [
    "y = t.empty(t_arr.shape)\n",
    "def exp2():\n",
    "    t.mul(t_arr, t_arr, out=y)"
   ]
  },
  {
   "cell_type": "code",
   "execution_count": 27,
   "metadata": {},
   "outputs": [],
   "source": [
    "def exp3():\n",
    "    t_arr.mul_(t_arr)"
   ]
  },
  {
   "cell_type": "code",
   "execution_count": 28,
   "metadata": {},
   "outputs": [
    {
     "data": {
      "text/plain": [
       "0.2277235507965088"
      ]
     },
     "execution_count": 28,
     "metadata": {},
     "output_type": "execute_result"
    }
   ],
   "source": [
    "timer(exp1)"
   ]
  },
  {
   "cell_type": "code",
   "execution_count": 29,
   "metadata": {},
   "outputs": [
    {
     "data": {
      "text/plain": [
       "0.061083984375"
      ]
     },
     "execution_count": 29,
     "metadata": {},
     "output_type": "execute_result"
    }
   ],
   "source": [
    "timer(exp2)"
   ]
  },
  {
   "cell_type": "code",
   "execution_count": 30,
   "metadata": {},
   "outputs": [
    {
     "data": {
      "text/plain": [
       "0.042201995849609375"
      ]
     },
     "execution_count": 30,
     "metadata": {},
     "output_type": "execute_result"
    }
   ],
   "source": [
    "timer(exp3)"
   ]
  },
  {
   "cell_type": "markdown",
   "metadata": {},
   "source": [
    "### Tensors have 100+ built-in class methods \n",
    "including all your favorite numpy convenience methods and a a growing linear algebra library"
   ]
  },
  {
   "cell_type": "markdown",
   "metadata": {},
   "source": [
    "## What about the GPU?\n",
    "There is a class method call 'to()', that sends a tensor to a specific device. This is new in 0.4.0."
   ]
  },
  {
   "cell_type": "code",
   "execution_count": 31,
   "metadata": {},
   "outputs": [
    {
     "data": {
      "text/plain": [
       "torch.Size([10000, 10000])"
      ]
     },
     "execution_count": 31,
     "metadata": {},
     "output_type": "execute_result"
    }
   ],
   "source": [
    "t_arr.shape"
   ]
  },
  {
   "cell_type": "code",
   "execution_count": 32,
   "metadata": {},
   "outputs": [
    {
     "data": {
      "text/plain": [
       "device(type='cpu')"
      ]
     },
     "execution_count": 32,
     "metadata": {},
     "output_type": "execute_result"
    }
   ],
   "source": [
    "t_arr.device # Should currently be on the cpu"
   ]
  },
  {
   "cell_type": "code",
   "execution_count": 33,
   "metadata": {},
   "outputs": [
    {
     "ename": "AssertionError",
     "evalue": "\nThe NVIDIA driver on your system is too old (found version 9000).\nPlease update your GPU driver by downloading and installing a new\nversion from the URL: http://www.nvidia.com/Download/index.aspx\nAlternatively, go to: http://pytorch.org to install\na PyTorch version that has been compiled with your version\nof the CUDA driver.",
     "output_type": "error",
     "traceback": [
      "\u001b[1;31m---------------------------------------------------------------------------\u001b[0m",
      "\u001b[1;31mAssertionError\u001b[0m                            Traceback (most recent call last)",
      "\u001b[1;32m<ipython-input-33-0590fbb1d891>\u001b[0m in \u001b[0;36m<module>\u001b[1;34m()\u001b[0m\n\u001b[0;32m      1\u001b[0m \u001b[0mdevice\u001b[0m \u001b[1;33m=\u001b[0m \u001b[0mt\u001b[0m\u001b[1;33m.\u001b[0m\u001b[0mdevice\u001b[0m\u001b[1;33m(\u001b[0m\u001b[1;34m'cuda'\u001b[0m\u001b[1;33m)\u001b[0m\u001b[1;33m\u001b[0m\u001b[0m\n\u001b[1;32m----> 2\u001b[1;33m \u001b[0mt_arr\u001b[0m\u001b[1;33m.\u001b[0m\u001b[0mto\u001b[0m\u001b[1;33m(\u001b[0m\u001b[0mdevice\u001b[0m\u001b[1;33m)\u001b[0m\u001b[1;33m\u001b[0m\u001b[0m\n\u001b[0m",
      "\u001b[1;32m~\\Anaconda2\\envs\\ML\\lib\\site-packages\\torch\\cuda\\__init__.py\u001b[0m in \u001b[0;36m_lazy_init\u001b[1;34m()\u001b[0m\n\u001b[0;32m    158\u001b[0m         raise RuntimeError(\n\u001b[0;32m    159\u001b[0m             \"Cannot re-initialize CUDA in forked subprocess. \" + msg)\n\u001b[1;32m--> 160\u001b[1;33m     \u001b[0m_check_driver\u001b[0m\u001b[1;33m(\u001b[0m\u001b[1;33m)\u001b[0m\u001b[1;33m\u001b[0m\u001b[0m\n\u001b[0m\u001b[0;32m    161\u001b[0m     \u001b[0mtorch\u001b[0m\u001b[1;33m.\u001b[0m\u001b[0m_C\u001b[0m\u001b[1;33m.\u001b[0m\u001b[0m_cuda_init\u001b[0m\u001b[1;33m(\u001b[0m\u001b[1;33m)\u001b[0m\u001b[1;33m\u001b[0m\u001b[0m\n\u001b[0;32m    162\u001b[0m     \u001b[0m_cudart\u001b[0m \u001b[1;33m=\u001b[0m \u001b[0m_load_cudart\u001b[0m\u001b[1;33m(\u001b[0m\u001b[1;33m)\u001b[0m\u001b[1;33m\u001b[0m\u001b[0m\n",
      "\u001b[1;32m~\\Anaconda2\\envs\\ML\\lib\\site-packages\\torch\\cuda\\__init__.py\u001b[0m in \u001b[0;36m_check_driver\u001b[1;34m()\u001b[0m\n\u001b[0;32m     88\u001b[0m \u001b[0mAlternatively\u001b[0m\u001b[1;33m,\u001b[0m \u001b[0mgo\u001b[0m \u001b[0mto\u001b[0m\u001b[1;33m:\u001b[0m \u001b[0mhttp\u001b[0m\u001b[1;33m:\u001b[0m\u001b[1;33m//\u001b[0m\u001b[0mpytorch\u001b[0m\u001b[1;33m.\u001b[0m\u001b[0morg\u001b[0m \u001b[0mto\u001b[0m \u001b[0minstall\u001b[0m\u001b[1;33m\u001b[0m\u001b[0m\n\u001b[0;32m     89\u001b[0m \u001b[0ma\u001b[0m \u001b[0mPyTorch\u001b[0m \u001b[0mversion\u001b[0m \u001b[0mthat\u001b[0m \u001b[0mhas\u001b[0m \u001b[0mbeen\u001b[0m \u001b[0mcompiled\u001b[0m \u001b[1;32mwith\u001b[0m \u001b[0myour\u001b[0m \u001b[0mversion\u001b[0m\u001b[1;33m\u001b[0m\u001b[0m\n\u001b[1;32m---> 90\u001b[1;33m of the CUDA driver.\"\"\".format(str(torch._C._cuda_getDriverVersion())))\n\u001b[0m\u001b[0;32m     91\u001b[0m \u001b[1;33m\u001b[0m\u001b[0m\n\u001b[0;32m     92\u001b[0m \u001b[1;33m\u001b[0m\u001b[0m\n",
      "\u001b[1;31mAssertionError\u001b[0m: \nThe NVIDIA driver on your system is too old (found version 9000).\nPlease update your GPU driver by downloading and installing a new\nversion from the URL: http://www.nvidia.com/Download/index.aspx\nAlternatively, go to: http://pytorch.org to install\na PyTorch version that has been compiled with your version\nof the CUDA driver."
     ]
    }
   ],
   "source": [
    "device = t.device('cuda')\n",
    "t_arr.to(device)"
   ]
  },
  {
   "cell_type": "code",
   "execution_count": 34,
   "metadata": {},
   "outputs": [
    {
     "data": {
      "text/plain": [
       "False"
      ]
     },
     "execution_count": 34,
     "metadata": {},
     "output_type": "execute_result"
    }
   ],
   "source": [
    "t.cuda.is_available()"
   ]
  },
  {
   "cell_type": "markdown",
   "metadata": {},
   "source": [
    "## a deep learning research platform that provides maximum flexibility and speed"
   ]
  },
  {
   "cell_type": "markdown",
   "metadata": {},
   "source": [
    "Central to all neural networks in PyTorch is the autograd package. Let’s first briefly visit this, and we will then go to training our first neural network.\n",
    "\n",
    "The autograd package provides automatic differentiation for all operations on Tensors. It is a define-by-run framework, which means that your backprop is defined by how your code is run, and that every single iteration can be different."
   ]
  },
  {
   "cell_type": "code",
   "execution_count": 35,
   "metadata": {},
   "outputs": [],
   "source": [
    "b = t.tensor([2], dtype=t.float32)"
   ]
  },
  {
   "cell_type": "code",
   "execution_count": 36,
   "metadata": {},
   "outputs": [
    {
     "data": {
      "text/plain": [
       "False"
      ]
     },
     "execution_count": 36,
     "metadata": {},
     "output_type": "execute_result"
    }
   ],
   "source": [
    "b.requires_grad"
   ]
  },
  {
   "cell_type": "code",
   "execution_count": 37,
   "metadata": {},
   "outputs": [
    {
     "data": {
      "text/plain": [
       "False"
      ]
     },
     "execution_count": 37,
     "metadata": {},
     "output_type": "execute_result"
    }
   ],
   "source": [
    "y=b*b*b\n",
    "y.requires_grad"
   ]
  },
  {
   "cell_type": "code",
   "execution_count": 38,
   "metadata": {},
   "outputs": [
    {
     "ename": "RuntimeError",
     "evalue": "element 0 of tensors does not require grad and does not have a grad_fn",
     "output_type": "error",
     "traceback": [
      "\u001b[1;31m---------------------------------------------------------------------------\u001b[0m",
      "\u001b[1;31mRuntimeError\u001b[0m                              Traceback (most recent call last)",
      "\u001b[1;32m<ipython-input-38-ab75bb780f4c>\u001b[0m in \u001b[0;36m<module>\u001b[1;34m()\u001b[0m\n\u001b[1;32m----> 1\u001b[1;33m \u001b[0my\u001b[0m\u001b[1;33m.\u001b[0m\u001b[0mbackward\u001b[0m\u001b[1;33m(\u001b[0m\u001b[1;33m)\u001b[0m\u001b[1;33m\u001b[0m\u001b[0m\n\u001b[0m",
      "\u001b[1;32m~\\Anaconda2\\envs\\ML\\lib\\site-packages\\torch\\tensor.py\u001b[0m in \u001b[0;36mbackward\u001b[1;34m(self, gradient, retain_graph, create_graph)\u001b[0m\n\u001b[0;32m     91\u001b[0m                 \u001b[0mproducts\u001b[0m\u001b[1;33m.\u001b[0m \u001b[0mDefaults\u001b[0m \u001b[0mto\u001b[0m\u001b[0;31m \u001b[0m\u001b[0;31m`\u001b[0m\u001b[0;31m`\u001b[0m\u001b[1;32mFalse\u001b[0m\u001b[0;31m`\u001b[0m\u001b[0;31m`\u001b[0m\u001b[1;33m.\u001b[0m\u001b[1;33m\u001b[0m\u001b[0m\n\u001b[0;32m     92\u001b[0m         \"\"\"\n\u001b[1;32m---> 93\u001b[1;33m         \u001b[0mtorch\u001b[0m\u001b[1;33m.\u001b[0m\u001b[0mautograd\u001b[0m\u001b[1;33m.\u001b[0m\u001b[0mbackward\u001b[0m\u001b[1;33m(\u001b[0m\u001b[0mself\u001b[0m\u001b[1;33m,\u001b[0m \u001b[0mgradient\u001b[0m\u001b[1;33m,\u001b[0m \u001b[0mretain_graph\u001b[0m\u001b[1;33m,\u001b[0m \u001b[0mcreate_graph\u001b[0m\u001b[1;33m)\u001b[0m\u001b[1;33m\u001b[0m\u001b[0m\n\u001b[0m\u001b[0;32m     94\u001b[0m \u001b[1;33m\u001b[0m\u001b[0m\n\u001b[0;32m     95\u001b[0m     \u001b[1;32mdef\u001b[0m \u001b[0mregister_hook\u001b[0m\u001b[1;33m(\u001b[0m\u001b[0mself\u001b[0m\u001b[1;33m,\u001b[0m \u001b[0mhook\u001b[0m\u001b[1;33m)\u001b[0m\u001b[1;33m:\u001b[0m\u001b[1;33m\u001b[0m\u001b[0m\n",
      "\u001b[1;32m~\\Anaconda2\\envs\\ML\\lib\\site-packages\\torch\\autograd\\__init__.py\u001b[0m in \u001b[0;36mbackward\u001b[1;34m(tensors, grad_tensors, retain_graph, create_graph, grad_variables)\u001b[0m\n\u001b[0;32m     87\u001b[0m     Variable._execution_engine.run_backward(\n\u001b[0;32m     88\u001b[0m         \u001b[0mtensors\u001b[0m\u001b[1;33m,\u001b[0m \u001b[0mgrad_tensors\u001b[0m\u001b[1;33m,\u001b[0m \u001b[0mretain_graph\u001b[0m\u001b[1;33m,\u001b[0m \u001b[0mcreate_graph\u001b[0m\u001b[1;33m,\u001b[0m\u001b[1;33m\u001b[0m\u001b[0m\n\u001b[1;32m---> 89\u001b[1;33m         allow_unreachable=True)  # allow_unreachable flag\n\u001b[0m\u001b[0;32m     90\u001b[0m \u001b[1;33m\u001b[0m\u001b[0m\n\u001b[0;32m     91\u001b[0m \u001b[1;33m\u001b[0m\u001b[0m\n",
      "\u001b[1;31mRuntimeError\u001b[0m: element 0 of tensors does not require grad and does not have a grad_fn"
     ]
    }
   ],
   "source": [
    "y.backward()"
   ]
  },
  {
   "cell_type": "code",
   "execution_count": 39,
   "metadata": {},
   "outputs": [],
   "source": [
    "b.requires_grad = True # or b.requires_grad_()"
   ]
  },
  {
   "cell_type": "code",
   "execution_count": 40,
   "metadata": {},
   "outputs": [
    {
     "data": {
      "text/plain": [
       "True"
      ]
     },
     "execution_count": 40,
     "metadata": {},
     "output_type": "execute_result"
    }
   ],
   "source": [
    "y=b*b*b\n",
    "y.requires_grad"
   ]
  },
  {
   "cell_type": "code",
   "execution_count": 41,
   "metadata": {},
   "outputs": [],
   "source": [
    "z = y*y"
   ]
  },
  {
   "cell_type": "code",
   "execution_count": 42,
   "metadata": {},
   "outputs": [],
   "source": [
    "z.backward()"
   ]
  },
  {
   "cell_type": "code",
   "execution_count": 43,
   "metadata": {},
   "outputs": [
    {
     "data": {
      "text/plain": [
       "<MulBackward1 at 0x203afb6e550>"
      ]
     },
     "execution_count": 43,
     "metadata": {},
     "output_type": "execute_result"
    }
   ],
   "source": [
    "y.grad_fn"
   ]
  },
  {
   "cell_type": "code",
   "execution_count": 44,
   "metadata": {},
   "outputs": [
    {
     "data": {
      "text/plain": [
       "tensor([ 192.])"
      ]
     },
     "execution_count": 44,
     "metadata": {},
     "output_type": "execute_result"
    }
   ],
   "source": [
    "b.grad"
   ]
  },
  {
   "cell_type": "code",
   "execution_count": 45,
   "metadata": {},
   "outputs": [],
   "source": [
    "z.grad"
   ]
  },
  {
   "cell_type": "code",
   "execution_count": 46,
   "metadata": {},
   "outputs": [],
   "source": [
    "c = b.detach()"
   ]
  },
  {
   "cell_type": "code",
   "execution_count": 47,
   "metadata": {},
   "outputs": [],
   "source": [
    "y=c*c"
   ]
  },
  {
   "cell_type": "code",
   "execution_count": 48,
   "metadata": {},
   "outputs": [
    {
     "ename": "RuntimeError",
     "evalue": "element 0 of tensors does not require grad and does not have a grad_fn",
     "output_type": "error",
     "traceback": [
      "\u001b[1;31m---------------------------------------------------------------------------\u001b[0m",
      "\u001b[1;31mRuntimeError\u001b[0m                              Traceback (most recent call last)",
      "\u001b[1;32m<ipython-input-48-ab75bb780f4c>\u001b[0m in \u001b[0;36m<module>\u001b[1;34m()\u001b[0m\n\u001b[1;32m----> 1\u001b[1;33m \u001b[0my\u001b[0m\u001b[1;33m.\u001b[0m\u001b[0mbackward\u001b[0m\u001b[1;33m(\u001b[0m\u001b[1;33m)\u001b[0m\u001b[1;33m\u001b[0m\u001b[0m\n\u001b[0m",
      "\u001b[1;32m~\\Anaconda2\\envs\\ML\\lib\\site-packages\\torch\\tensor.py\u001b[0m in \u001b[0;36mbackward\u001b[1;34m(self, gradient, retain_graph, create_graph)\u001b[0m\n\u001b[0;32m     91\u001b[0m                 \u001b[0mproducts\u001b[0m\u001b[1;33m.\u001b[0m \u001b[0mDefaults\u001b[0m \u001b[0mto\u001b[0m\u001b[0;31m \u001b[0m\u001b[0;31m`\u001b[0m\u001b[0;31m`\u001b[0m\u001b[1;32mFalse\u001b[0m\u001b[0;31m`\u001b[0m\u001b[0;31m`\u001b[0m\u001b[1;33m.\u001b[0m\u001b[1;33m\u001b[0m\u001b[0m\n\u001b[0;32m     92\u001b[0m         \"\"\"\n\u001b[1;32m---> 93\u001b[1;33m         \u001b[0mtorch\u001b[0m\u001b[1;33m.\u001b[0m\u001b[0mautograd\u001b[0m\u001b[1;33m.\u001b[0m\u001b[0mbackward\u001b[0m\u001b[1;33m(\u001b[0m\u001b[0mself\u001b[0m\u001b[1;33m,\u001b[0m \u001b[0mgradient\u001b[0m\u001b[1;33m,\u001b[0m \u001b[0mretain_graph\u001b[0m\u001b[1;33m,\u001b[0m \u001b[0mcreate_graph\u001b[0m\u001b[1;33m)\u001b[0m\u001b[1;33m\u001b[0m\u001b[0m\n\u001b[0m\u001b[0;32m     94\u001b[0m \u001b[1;33m\u001b[0m\u001b[0m\n\u001b[0;32m     95\u001b[0m     \u001b[1;32mdef\u001b[0m \u001b[0mregister_hook\u001b[0m\u001b[1;33m(\u001b[0m\u001b[0mself\u001b[0m\u001b[1;33m,\u001b[0m \u001b[0mhook\u001b[0m\u001b[1;33m)\u001b[0m\u001b[1;33m:\u001b[0m\u001b[1;33m\u001b[0m\u001b[0m\n",
      "\u001b[1;32m~\\Anaconda2\\envs\\ML\\lib\\site-packages\\torch\\autograd\\__init__.py\u001b[0m in \u001b[0;36mbackward\u001b[1;34m(tensors, grad_tensors, retain_graph, create_graph, grad_variables)\u001b[0m\n\u001b[0;32m     87\u001b[0m     Variable._execution_engine.run_backward(\n\u001b[0;32m     88\u001b[0m         \u001b[0mtensors\u001b[0m\u001b[1;33m,\u001b[0m \u001b[0mgrad_tensors\u001b[0m\u001b[1;33m,\u001b[0m \u001b[0mretain_graph\u001b[0m\u001b[1;33m,\u001b[0m \u001b[0mcreate_graph\u001b[0m\u001b[1;33m,\u001b[0m\u001b[1;33m\u001b[0m\u001b[0m\n\u001b[1;32m---> 89\u001b[1;33m         allow_unreachable=True)  # allow_unreachable flag\n\u001b[0m\u001b[0;32m     90\u001b[0m \u001b[1;33m\u001b[0m\u001b[0m\n\u001b[0;32m     91\u001b[0m \u001b[1;33m\u001b[0m\u001b[0m\n",
      "\u001b[1;31mRuntimeError\u001b[0m: element 0 of tensors does not require grad and does not have a grad_fn"
     ]
    }
   ],
   "source": [
    "y.backward()"
   ]
  },
  {
   "cell_type": "code",
   "execution_count": 50,
   "metadata": {},
   "outputs": [],
   "source": [
    "import matplotlib\n",
    "matplotlib.use('nbagg')\n",
    "import matplotlib.pyplot as plt"
   ]
  },
  {
   "cell_type": "code",
   "execution_count": 51,
   "metadata": {},
   "outputs": [
    {
     "data": {
      "application/javascript": [
       "/* Put everything inside the global mpl namespace */\n",
       "window.mpl = {};\n",
       "\n",
       "\n",
       "mpl.get_websocket_type = function() {\n",
       "    if (typeof(WebSocket) !== 'undefined') {\n",
       "        return WebSocket;\n",
       "    } else if (typeof(MozWebSocket) !== 'undefined') {\n",
       "        return MozWebSocket;\n",
       "    } else {\n",
       "        alert('Your browser does not have WebSocket support.' +\n",
       "              'Please try Chrome, Safari or Firefox ≥ 6. ' +\n",
       "              'Firefox 4 and 5 are also supported but you ' +\n",
       "              'have to enable WebSockets in about:config.');\n",
       "    };\n",
       "}\n",
       "\n",
       "mpl.figure = function(figure_id, websocket, ondownload, parent_element) {\n",
       "    this.id = figure_id;\n",
       "\n",
       "    this.ws = websocket;\n",
       "\n",
       "    this.supports_binary = (this.ws.binaryType != undefined);\n",
       "\n",
       "    if (!this.supports_binary) {\n",
       "        var warnings = document.getElementById(\"mpl-warnings\");\n",
       "        if (warnings) {\n",
       "            warnings.style.display = 'block';\n",
       "            warnings.textContent = (\n",
       "                \"This browser does not support binary websocket messages. \" +\n",
       "                    \"Performance may be slow.\");\n",
       "        }\n",
       "    }\n",
       "\n",
       "    this.imageObj = new Image();\n",
       "\n",
       "    this.context = undefined;\n",
       "    this.message = undefined;\n",
       "    this.canvas = undefined;\n",
       "    this.rubberband_canvas = undefined;\n",
       "    this.rubberband_context = undefined;\n",
       "    this.format_dropdown = undefined;\n",
       "\n",
       "    this.image_mode = 'full';\n",
       "\n",
       "    this.root = $('<div/>');\n",
       "    this._root_extra_style(this.root)\n",
       "    this.root.attr('style', 'display: inline-block');\n",
       "\n",
       "    $(parent_element).append(this.root);\n",
       "\n",
       "    this._init_header(this);\n",
       "    this._init_canvas(this);\n",
       "    this._init_toolbar(this);\n",
       "\n",
       "    var fig = this;\n",
       "\n",
       "    this.waiting = false;\n",
       "\n",
       "    this.ws.onopen =  function () {\n",
       "            fig.send_message(\"supports_binary\", {value: fig.supports_binary});\n",
       "            fig.send_message(\"send_image_mode\", {});\n",
       "            if (mpl.ratio != 1) {\n",
       "                fig.send_message(\"set_dpi_ratio\", {'dpi_ratio': mpl.ratio});\n",
       "            }\n",
       "            fig.send_message(\"refresh\", {});\n",
       "        }\n",
       "\n",
       "    this.imageObj.onload = function() {\n",
       "            if (fig.image_mode == 'full') {\n",
       "                // Full images could contain transparency (where diff images\n",
       "                // almost always do), so we need to clear the canvas so that\n",
       "                // there is no ghosting.\n",
       "                fig.context.clearRect(0, 0, fig.canvas.width, fig.canvas.height);\n",
       "            }\n",
       "            fig.context.drawImage(fig.imageObj, 0, 0);\n",
       "        };\n",
       "\n",
       "    this.imageObj.onunload = function() {\n",
       "        fig.ws.close();\n",
       "    }\n",
       "\n",
       "    this.ws.onmessage = this._make_on_message_function(this);\n",
       "\n",
       "    this.ondownload = ondownload;\n",
       "}\n",
       "\n",
       "mpl.figure.prototype._init_header = function() {\n",
       "    var titlebar = $(\n",
       "        '<div class=\"ui-dialog-titlebar ui-widget-header ui-corner-all ' +\n",
       "        'ui-helper-clearfix\"/>');\n",
       "    var titletext = $(\n",
       "        '<div class=\"ui-dialog-title\" style=\"width: 100%; ' +\n",
       "        'text-align: center; padding: 3px;\"/>');\n",
       "    titlebar.append(titletext)\n",
       "    this.root.append(titlebar);\n",
       "    this.header = titletext[0];\n",
       "}\n",
       "\n",
       "\n",
       "\n",
       "mpl.figure.prototype._canvas_extra_style = function(canvas_div) {\n",
       "\n",
       "}\n",
       "\n",
       "\n",
       "mpl.figure.prototype._root_extra_style = function(canvas_div) {\n",
       "\n",
       "}\n",
       "\n",
       "mpl.figure.prototype._init_canvas = function() {\n",
       "    var fig = this;\n",
       "\n",
       "    var canvas_div = $('<div/>');\n",
       "\n",
       "    canvas_div.attr('style', 'position: relative; clear: both; outline: 0');\n",
       "\n",
       "    function canvas_keyboard_event(event) {\n",
       "        return fig.key_event(event, event['data']);\n",
       "    }\n",
       "\n",
       "    canvas_div.keydown('key_press', canvas_keyboard_event);\n",
       "    canvas_div.keyup('key_release', canvas_keyboard_event);\n",
       "    this.canvas_div = canvas_div\n",
       "    this._canvas_extra_style(canvas_div)\n",
       "    this.root.append(canvas_div);\n",
       "\n",
       "    var canvas = $('<canvas/>');\n",
       "    canvas.addClass('mpl-canvas');\n",
       "    canvas.attr('style', \"left: 0; top: 0; z-index: 0; outline: 0\")\n",
       "\n",
       "    this.canvas = canvas[0];\n",
       "    this.context = canvas[0].getContext(\"2d\");\n",
       "\n",
       "    var backingStore = this.context.backingStorePixelRatio ||\n",
       "\tthis.context.webkitBackingStorePixelRatio ||\n",
       "\tthis.context.mozBackingStorePixelRatio ||\n",
       "\tthis.context.msBackingStorePixelRatio ||\n",
       "\tthis.context.oBackingStorePixelRatio ||\n",
       "\tthis.context.backingStorePixelRatio || 1;\n",
       "\n",
       "    mpl.ratio = (window.devicePixelRatio || 1) / backingStore;\n",
       "\n",
       "    var rubberband = $('<canvas/>');\n",
       "    rubberband.attr('style', \"position: absolute; left: 0; top: 0; z-index: 1;\")\n",
       "\n",
       "    var pass_mouse_events = true;\n",
       "\n",
       "    canvas_div.resizable({\n",
       "        start: function(event, ui) {\n",
       "            pass_mouse_events = false;\n",
       "        },\n",
       "        resize: function(event, ui) {\n",
       "            fig.request_resize(ui.size.width, ui.size.height);\n",
       "        },\n",
       "        stop: function(event, ui) {\n",
       "            pass_mouse_events = true;\n",
       "            fig.request_resize(ui.size.width, ui.size.height);\n",
       "        },\n",
       "    });\n",
       "\n",
       "    function mouse_event_fn(event) {\n",
       "        if (pass_mouse_events)\n",
       "            return fig.mouse_event(event, event['data']);\n",
       "    }\n",
       "\n",
       "    rubberband.mousedown('button_press', mouse_event_fn);\n",
       "    rubberband.mouseup('button_release', mouse_event_fn);\n",
       "    // Throttle sequential mouse events to 1 every 20ms.\n",
       "    rubberband.mousemove('motion_notify', mouse_event_fn);\n",
       "\n",
       "    rubberband.mouseenter('figure_enter', mouse_event_fn);\n",
       "    rubberband.mouseleave('figure_leave', mouse_event_fn);\n",
       "\n",
       "    canvas_div.on(\"wheel\", function (event) {\n",
       "        event = event.originalEvent;\n",
       "        event['data'] = 'scroll'\n",
       "        if (event.deltaY < 0) {\n",
       "            event.step = 1;\n",
       "        } else {\n",
       "            event.step = -1;\n",
       "        }\n",
       "        mouse_event_fn(event);\n",
       "    });\n",
       "\n",
       "    canvas_div.append(canvas);\n",
       "    canvas_div.append(rubberband);\n",
       "\n",
       "    this.rubberband = rubberband;\n",
       "    this.rubberband_canvas = rubberband[0];\n",
       "    this.rubberband_context = rubberband[0].getContext(\"2d\");\n",
       "    this.rubberband_context.strokeStyle = \"#000000\";\n",
       "\n",
       "    this._resize_canvas = function(width, height) {\n",
       "        // Keep the size of the canvas, canvas container, and rubber band\n",
       "        // canvas in synch.\n",
       "        canvas_div.css('width', width)\n",
       "        canvas_div.css('height', height)\n",
       "\n",
       "        canvas.attr('width', width * mpl.ratio);\n",
       "        canvas.attr('height', height * mpl.ratio);\n",
       "        canvas.attr('style', 'width: ' + width + 'px; height: ' + height + 'px;');\n",
       "\n",
       "        rubberband.attr('width', width);\n",
       "        rubberband.attr('height', height);\n",
       "    }\n",
       "\n",
       "    // Set the figure to an initial 600x600px, this will subsequently be updated\n",
       "    // upon first draw.\n",
       "    this._resize_canvas(600, 600);\n",
       "\n",
       "    // Disable right mouse context menu.\n",
       "    $(this.rubberband_canvas).bind(\"contextmenu\",function(e){\n",
       "        return false;\n",
       "    });\n",
       "\n",
       "    function set_focus () {\n",
       "        canvas.focus();\n",
       "        canvas_div.focus();\n",
       "    }\n",
       "\n",
       "    window.setTimeout(set_focus, 100);\n",
       "}\n",
       "\n",
       "mpl.figure.prototype._init_toolbar = function() {\n",
       "    var fig = this;\n",
       "\n",
       "    var nav_element = $('<div/>')\n",
       "    nav_element.attr('style', 'width: 100%');\n",
       "    this.root.append(nav_element);\n",
       "\n",
       "    // Define a callback function for later on.\n",
       "    function toolbar_event(event) {\n",
       "        return fig.toolbar_button_onclick(event['data']);\n",
       "    }\n",
       "    function toolbar_mouse_event(event) {\n",
       "        return fig.toolbar_button_onmouseover(event['data']);\n",
       "    }\n",
       "\n",
       "    for(var toolbar_ind in mpl.toolbar_items) {\n",
       "        var name = mpl.toolbar_items[toolbar_ind][0];\n",
       "        var tooltip = mpl.toolbar_items[toolbar_ind][1];\n",
       "        var image = mpl.toolbar_items[toolbar_ind][2];\n",
       "        var method_name = mpl.toolbar_items[toolbar_ind][3];\n",
       "\n",
       "        if (!name) {\n",
       "            // put a spacer in here.\n",
       "            continue;\n",
       "        }\n",
       "        var button = $('<button/>');\n",
       "        button.addClass('ui-button ui-widget ui-state-default ui-corner-all ' +\n",
       "                        'ui-button-icon-only');\n",
       "        button.attr('role', 'button');\n",
       "        button.attr('aria-disabled', 'false');\n",
       "        button.click(method_name, toolbar_event);\n",
       "        button.mouseover(tooltip, toolbar_mouse_event);\n",
       "\n",
       "        var icon_img = $('<span/>');\n",
       "        icon_img.addClass('ui-button-icon-primary ui-icon');\n",
       "        icon_img.addClass(image);\n",
       "        icon_img.addClass('ui-corner-all');\n",
       "\n",
       "        var tooltip_span = $('<span/>');\n",
       "        tooltip_span.addClass('ui-button-text');\n",
       "        tooltip_span.html(tooltip);\n",
       "\n",
       "        button.append(icon_img);\n",
       "        button.append(tooltip_span);\n",
       "\n",
       "        nav_element.append(button);\n",
       "    }\n",
       "\n",
       "    var fmt_picker_span = $('<span/>');\n",
       "\n",
       "    var fmt_picker = $('<select/>');\n",
       "    fmt_picker.addClass('mpl-toolbar-option ui-widget ui-widget-content');\n",
       "    fmt_picker_span.append(fmt_picker);\n",
       "    nav_element.append(fmt_picker_span);\n",
       "    this.format_dropdown = fmt_picker[0];\n",
       "\n",
       "    for (var ind in mpl.extensions) {\n",
       "        var fmt = mpl.extensions[ind];\n",
       "        var option = $(\n",
       "            '<option/>', {selected: fmt === mpl.default_extension}).html(fmt);\n",
       "        fmt_picker.append(option)\n",
       "    }\n",
       "\n",
       "    // Add hover states to the ui-buttons\n",
       "    $( \".ui-button\" ).hover(\n",
       "        function() { $(this).addClass(\"ui-state-hover\");},\n",
       "        function() { $(this).removeClass(\"ui-state-hover\");}\n",
       "    );\n",
       "\n",
       "    var status_bar = $('<span class=\"mpl-message\"/>');\n",
       "    nav_element.append(status_bar);\n",
       "    this.message = status_bar[0];\n",
       "}\n",
       "\n",
       "mpl.figure.prototype.request_resize = function(x_pixels, y_pixels) {\n",
       "    // Request matplotlib to resize the figure. Matplotlib will then trigger a resize in the client,\n",
       "    // which will in turn request a refresh of the image.\n",
       "    this.send_message('resize', {'width': x_pixels, 'height': y_pixels});\n",
       "}\n",
       "\n",
       "mpl.figure.prototype.send_message = function(type, properties) {\n",
       "    properties['type'] = type;\n",
       "    properties['figure_id'] = this.id;\n",
       "    this.ws.send(JSON.stringify(properties));\n",
       "}\n",
       "\n",
       "mpl.figure.prototype.send_draw_message = function() {\n",
       "    if (!this.waiting) {\n",
       "        this.waiting = true;\n",
       "        this.ws.send(JSON.stringify({type: \"draw\", figure_id: this.id}));\n",
       "    }\n",
       "}\n",
       "\n",
       "\n",
       "mpl.figure.prototype.handle_save = function(fig, msg) {\n",
       "    var format_dropdown = fig.format_dropdown;\n",
       "    var format = format_dropdown.options[format_dropdown.selectedIndex].value;\n",
       "    fig.ondownload(fig, format);\n",
       "}\n",
       "\n",
       "\n",
       "mpl.figure.prototype.handle_resize = function(fig, msg) {\n",
       "    var size = msg['size'];\n",
       "    if (size[0] != fig.canvas.width || size[1] != fig.canvas.height) {\n",
       "        fig._resize_canvas(size[0], size[1]);\n",
       "        fig.send_message(\"refresh\", {});\n",
       "    };\n",
       "}\n",
       "\n",
       "mpl.figure.prototype.handle_rubberband = function(fig, msg) {\n",
       "    var x0 = msg['x0'] / mpl.ratio;\n",
       "    var y0 = (fig.canvas.height - msg['y0']) / mpl.ratio;\n",
       "    var x1 = msg['x1'] / mpl.ratio;\n",
       "    var y1 = (fig.canvas.height - msg['y1']) / mpl.ratio;\n",
       "    x0 = Math.floor(x0) + 0.5;\n",
       "    y0 = Math.floor(y0) + 0.5;\n",
       "    x1 = Math.floor(x1) + 0.5;\n",
       "    y1 = Math.floor(y1) + 0.5;\n",
       "    var min_x = Math.min(x0, x1);\n",
       "    var min_y = Math.min(y0, y1);\n",
       "    var width = Math.abs(x1 - x0);\n",
       "    var height = Math.abs(y1 - y0);\n",
       "\n",
       "    fig.rubberband_context.clearRect(\n",
       "        0, 0, fig.canvas.width, fig.canvas.height);\n",
       "\n",
       "    fig.rubberband_context.strokeRect(min_x, min_y, width, height);\n",
       "}\n",
       "\n",
       "mpl.figure.prototype.handle_figure_label = function(fig, msg) {\n",
       "    // Updates the figure title.\n",
       "    fig.header.textContent = msg['label'];\n",
       "}\n",
       "\n",
       "mpl.figure.prototype.handle_cursor = function(fig, msg) {\n",
       "    var cursor = msg['cursor'];\n",
       "    switch(cursor)\n",
       "    {\n",
       "    case 0:\n",
       "        cursor = 'pointer';\n",
       "        break;\n",
       "    case 1:\n",
       "        cursor = 'default';\n",
       "        break;\n",
       "    case 2:\n",
       "        cursor = 'crosshair';\n",
       "        break;\n",
       "    case 3:\n",
       "        cursor = 'move';\n",
       "        break;\n",
       "    }\n",
       "    fig.rubberband_canvas.style.cursor = cursor;\n",
       "}\n",
       "\n",
       "mpl.figure.prototype.handle_message = function(fig, msg) {\n",
       "    fig.message.textContent = msg['message'];\n",
       "}\n",
       "\n",
       "mpl.figure.prototype.handle_draw = function(fig, msg) {\n",
       "    // Request the server to send over a new figure.\n",
       "    fig.send_draw_message();\n",
       "}\n",
       "\n",
       "mpl.figure.prototype.handle_image_mode = function(fig, msg) {\n",
       "    fig.image_mode = msg['mode'];\n",
       "}\n",
       "\n",
       "mpl.figure.prototype.updated_canvas_event = function() {\n",
       "    // Called whenever the canvas gets updated.\n",
       "    this.send_message(\"ack\", {});\n",
       "}\n",
       "\n",
       "// A function to construct a web socket function for onmessage handling.\n",
       "// Called in the figure constructor.\n",
       "mpl.figure.prototype._make_on_message_function = function(fig) {\n",
       "    return function socket_on_message(evt) {\n",
       "        if (evt.data instanceof Blob) {\n",
       "            /* FIXME: We get \"Resource interpreted as Image but\n",
       "             * transferred with MIME type text/plain:\" errors on\n",
       "             * Chrome.  But how to set the MIME type?  It doesn't seem\n",
       "             * to be part of the websocket stream */\n",
       "            evt.data.type = \"image/png\";\n",
       "\n",
       "            /* Free the memory for the previous frames */\n",
       "            if (fig.imageObj.src) {\n",
       "                (window.URL || window.webkitURL).revokeObjectURL(\n",
       "                    fig.imageObj.src);\n",
       "            }\n",
       "\n",
       "            fig.imageObj.src = (window.URL || window.webkitURL).createObjectURL(\n",
       "                evt.data);\n",
       "            fig.updated_canvas_event();\n",
       "            fig.waiting = false;\n",
       "            return;\n",
       "        }\n",
       "        else if (typeof evt.data === 'string' && evt.data.slice(0, 21) == \"data:image/png;base64\") {\n",
       "            fig.imageObj.src = evt.data;\n",
       "            fig.updated_canvas_event();\n",
       "            fig.waiting = false;\n",
       "            return;\n",
       "        }\n",
       "\n",
       "        var msg = JSON.parse(evt.data);\n",
       "        var msg_type = msg['type'];\n",
       "\n",
       "        // Call the  \"handle_{type}\" callback, which takes\n",
       "        // the figure and JSON message as its only arguments.\n",
       "        try {\n",
       "            var callback = fig[\"handle_\" + msg_type];\n",
       "        } catch (e) {\n",
       "            console.log(\"No handler for the '\" + msg_type + \"' message type: \", msg);\n",
       "            return;\n",
       "        }\n",
       "\n",
       "        if (callback) {\n",
       "            try {\n",
       "                // console.log(\"Handling '\" + msg_type + \"' message: \", msg);\n",
       "                callback(fig, msg);\n",
       "            } catch (e) {\n",
       "                console.log(\"Exception inside the 'handler_\" + msg_type + \"' callback:\", e, e.stack, msg);\n",
       "            }\n",
       "        }\n",
       "    };\n",
       "}\n",
       "\n",
       "// from http://stackoverflow.com/questions/1114465/getting-mouse-location-in-canvas\n",
       "mpl.findpos = function(e) {\n",
       "    //this section is from http://www.quirksmode.org/js/events_properties.html\n",
       "    var targ;\n",
       "    if (!e)\n",
       "        e = window.event;\n",
       "    if (e.target)\n",
       "        targ = e.target;\n",
       "    else if (e.srcElement)\n",
       "        targ = e.srcElement;\n",
       "    if (targ.nodeType == 3) // defeat Safari bug\n",
       "        targ = targ.parentNode;\n",
       "\n",
       "    // jQuery normalizes the pageX and pageY\n",
       "    // pageX,Y are the mouse positions relative to the document\n",
       "    // offset() returns the position of the element relative to the document\n",
       "    var x = e.pageX - $(targ).offset().left;\n",
       "    var y = e.pageY - $(targ).offset().top;\n",
       "\n",
       "    return {\"x\": x, \"y\": y};\n",
       "};\n",
       "\n",
       "/*\n",
       " * return a copy of an object with only non-object keys\n",
       " * we need this to avoid circular references\n",
       " * http://stackoverflow.com/a/24161582/3208463\n",
       " */\n",
       "function simpleKeys (original) {\n",
       "  return Object.keys(original).reduce(function (obj, key) {\n",
       "    if (typeof original[key] !== 'object')\n",
       "        obj[key] = original[key]\n",
       "    return obj;\n",
       "  }, {});\n",
       "}\n",
       "\n",
       "mpl.figure.prototype.mouse_event = function(event, name) {\n",
       "    var canvas_pos = mpl.findpos(event)\n",
       "\n",
       "    if (name === 'button_press')\n",
       "    {\n",
       "        this.canvas.focus();\n",
       "        this.canvas_div.focus();\n",
       "    }\n",
       "\n",
       "    var x = canvas_pos.x * mpl.ratio;\n",
       "    var y = canvas_pos.y * mpl.ratio;\n",
       "\n",
       "    this.send_message(name, {x: x, y: y, button: event.button,\n",
       "                             step: event.step,\n",
       "                             guiEvent: simpleKeys(event)});\n",
       "\n",
       "    /* This prevents the web browser from automatically changing to\n",
       "     * the text insertion cursor when the button is pressed.  We want\n",
       "     * to control all of the cursor setting manually through the\n",
       "     * 'cursor' event from matplotlib */\n",
       "    event.preventDefault();\n",
       "    return false;\n",
       "}\n",
       "\n",
       "mpl.figure.prototype._key_event_extra = function(event, name) {\n",
       "    // Handle any extra behaviour associated with a key event\n",
       "}\n",
       "\n",
       "mpl.figure.prototype.key_event = function(event, name) {\n",
       "\n",
       "    // Prevent repeat events\n",
       "    if (name == 'key_press')\n",
       "    {\n",
       "        if (event.which === this._key)\n",
       "            return;\n",
       "        else\n",
       "            this._key = event.which;\n",
       "    }\n",
       "    if (name == 'key_release')\n",
       "        this._key = null;\n",
       "\n",
       "    var value = '';\n",
       "    if (event.ctrlKey && event.which != 17)\n",
       "        value += \"ctrl+\";\n",
       "    if (event.altKey && event.which != 18)\n",
       "        value += \"alt+\";\n",
       "    if (event.shiftKey && event.which != 16)\n",
       "        value += \"shift+\";\n",
       "\n",
       "    value += 'k';\n",
       "    value += event.which.toString();\n",
       "\n",
       "    this._key_event_extra(event, name);\n",
       "\n",
       "    this.send_message(name, {key: value,\n",
       "                             guiEvent: simpleKeys(event)});\n",
       "    return false;\n",
       "}\n",
       "\n",
       "mpl.figure.prototype.toolbar_button_onclick = function(name) {\n",
       "    if (name == 'download') {\n",
       "        this.handle_save(this, null);\n",
       "    } else {\n",
       "        this.send_message(\"toolbar_button\", {name: name});\n",
       "    }\n",
       "};\n",
       "\n",
       "mpl.figure.prototype.toolbar_button_onmouseover = function(tooltip) {\n",
       "    this.message.textContent = tooltip;\n",
       "};\n",
       "mpl.toolbar_items = [[\"Home\", \"Reset original view\", \"fa fa-home icon-home\", \"home\"], [\"Back\", \"Back to  previous view\", \"fa fa-arrow-left icon-arrow-left\", \"back\"], [\"Forward\", \"Forward to next view\", \"fa fa-arrow-right icon-arrow-right\", \"forward\"], [\"\", \"\", \"\", \"\"], [\"Pan\", \"Pan axes with left mouse, zoom with right\", \"fa fa-arrows icon-move\", \"pan\"], [\"Zoom\", \"Zoom to rectangle\", \"fa fa-square-o icon-check-empty\", \"zoom\"], [\"\", \"\", \"\", \"\"], [\"Download\", \"Download plot\", \"fa fa-floppy-o icon-save\", \"download\"]];\n",
       "\n",
       "mpl.extensions = [\"eps\", \"jpeg\", \"pdf\", \"png\", \"ps\", \"raw\", \"svg\", \"tif\"];\n",
       "\n",
       "mpl.default_extension = \"png\";var comm_websocket_adapter = function(comm) {\n",
       "    // Create a \"websocket\"-like object which calls the given IPython comm\n",
       "    // object with the appropriate methods. Currently this is a non binary\n",
       "    // socket, so there is still some room for performance tuning.\n",
       "    var ws = {};\n",
       "\n",
       "    ws.close = function() {\n",
       "        comm.close()\n",
       "    };\n",
       "    ws.send = function(m) {\n",
       "        //console.log('sending', m);\n",
       "        comm.send(m);\n",
       "    };\n",
       "    // Register the callback with on_msg.\n",
       "    comm.on_msg(function(msg) {\n",
       "        //console.log('receiving', msg['content']['data'], msg);\n",
       "        // Pass the mpl event to the overridden (by mpl) onmessage function.\n",
       "        ws.onmessage(msg['content']['data'])\n",
       "    });\n",
       "    return ws;\n",
       "}\n",
       "\n",
       "mpl.mpl_figure_comm = function(comm, msg) {\n",
       "    // This is the function which gets called when the mpl process\n",
       "    // starts-up an IPython Comm through the \"matplotlib\" channel.\n",
       "\n",
       "    var id = msg.content.data.id;\n",
       "    // Get hold of the div created by the display call when the Comm\n",
       "    // socket was opened in Python.\n",
       "    var element = $(\"#\" + id);\n",
       "    var ws_proxy = comm_websocket_adapter(comm)\n",
       "\n",
       "    function ondownload(figure, format) {\n",
       "        window.open(figure.imageObj.src);\n",
       "    }\n",
       "\n",
       "    var fig = new mpl.figure(id, ws_proxy,\n",
       "                           ondownload,\n",
       "                           element.get(0));\n",
       "\n",
       "    // Call onopen now - mpl needs it, as it is assuming we've passed it a real\n",
       "    // web socket which is closed, not our websocket->open comm proxy.\n",
       "    ws_proxy.onopen();\n",
       "\n",
       "    fig.parent_element = element.get(0);\n",
       "    fig.cell_info = mpl.find_output_cell(\"<div id='\" + id + \"'></div>\");\n",
       "    if (!fig.cell_info) {\n",
       "        console.error(\"Failed to find cell for figure\", id, fig);\n",
       "        return;\n",
       "    }\n",
       "\n",
       "    var output_index = fig.cell_info[2]\n",
       "    var cell = fig.cell_info[0];\n",
       "\n",
       "};\n",
       "\n",
       "mpl.figure.prototype.handle_close = function(fig, msg) {\n",
       "    var width = fig.canvas.width/mpl.ratio\n",
       "    fig.root.unbind('remove')\n",
       "\n",
       "    // Update the output cell to use the data from the current canvas.\n",
       "    fig.push_to_output();\n",
       "    var dataURL = fig.canvas.toDataURL();\n",
       "    // Re-enable the keyboard manager in IPython - without this line, in FF,\n",
       "    // the notebook keyboard shortcuts fail.\n",
       "    IPython.keyboard_manager.enable()\n",
       "    $(fig.parent_element).html('<img src=\"' + dataURL + '\" width=\"' + width + '\">');\n",
       "    fig.close_ws(fig, msg);\n",
       "}\n",
       "\n",
       "mpl.figure.prototype.close_ws = function(fig, msg){\n",
       "    fig.send_message('closing', msg);\n",
       "    // fig.ws.close()\n",
       "}\n",
       "\n",
       "mpl.figure.prototype.push_to_output = function(remove_interactive) {\n",
       "    // Turn the data on the canvas into data in the output cell.\n",
       "    var width = this.canvas.width/mpl.ratio\n",
       "    var dataURL = this.canvas.toDataURL();\n",
       "    this.cell_info[1]['text/html'] = '<img src=\"' + dataURL + '\" width=\"' + width + '\">';\n",
       "}\n",
       "\n",
       "mpl.figure.prototype.updated_canvas_event = function() {\n",
       "    // Tell IPython that the notebook contents must change.\n",
       "    IPython.notebook.set_dirty(true);\n",
       "    this.send_message(\"ack\", {});\n",
       "    var fig = this;\n",
       "    // Wait a second, then push the new image to the DOM so\n",
       "    // that it is saved nicely (might be nice to debounce this).\n",
       "    setTimeout(function () { fig.push_to_output() }, 1000);\n",
       "}\n",
       "\n",
       "mpl.figure.prototype._init_toolbar = function() {\n",
       "    var fig = this;\n",
       "\n",
       "    var nav_element = $('<div/>')\n",
       "    nav_element.attr('style', 'width: 100%');\n",
       "    this.root.append(nav_element);\n",
       "\n",
       "    // Define a callback function for later on.\n",
       "    function toolbar_event(event) {\n",
       "        return fig.toolbar_button_onclick(event['data']);\n",
       "    }\n",
       "    function toolbar_mouse_event(event) {\n",
       "        return fig.toolbar_button_onmouseover(event['data']);\n",
       "    }\n",
       "\n",
       "    for(var toolbar_ind in mpl.toolbar_items){\n",
       "        var name = mpl.toolbar_items[toolbar_ind][0];\n",
       "        var tooltip = mpl.toolbar_items[toolbar_ind][1];\n",
       "        var image = mpl.toolbar_items[toolbar_ind][2];\n",
       "        var method_name = mpl.toolbar_items[toolbar_ind][3];\n",
       "\n",
       "        if (!name) { continue; };\n",
       "\n",
       "        var button = $('<button class=\"btn btn-default\" href=\"#\" title=\"' + name + '\"><i class=\"fa ' + image + ' fa-lg\"></i></button>');\n",
       "        button.click(method_name, toolbar_event);\n",
       "        button.mouseover(tooltip, toolbar_mouse_event);\n",
       "        nav_element.append(button);\n",
       "    }\n",
       "\n",
       "    // Add the status bar.\n",
       "    var status_bar = $('<span class=\"mpl-message\" style=\"text-align:right; float: right;\"/>');\n",
       "    nav_element.append(status_bar);\n",
       "    this.message = status_bar[0];\n",
       "\n",
       "    // Add the close button to the window.\n",
       "    var buttongrp = $('<div class=\"btn-group inline pull-right\"></div>');\n",
       "    var button = $('<button class=\"btn btn-mini btn-primary\" href=\"#\" title=\"Stop Interaction\"><i class=\"fa fa-power-off icon-remove icon-large\"></i></button>');\n",
       "    button.click(function (evt) { fig.handle_close(fig, {}); } );\n",
       "    button.mouseover('Stop Interaction', toolbar_mouse_event);\n",
       "    buttongrp.append(button);\n",
       "    var titlebar = this.root.find($('.ui-dialog-titlebar'));\n",
       "    titlebar.prepend(buttongrp);\n",
       "}\n",
       "\n",
       "mpl.figure.prototype._root_extra_style = function(el){\n",
       "    var fig = this\n",
       "    el.on(\"remove\", function(){\n",
       "\tfig.close_ws(fig, {});\n",
       "    });\n",
       "}\n",
       "\n",
       "mpl.figure.prototype._canvas_extra_style = function(el){\n",
       "    // this is important to make the div 'focusable\n",
       "    el.attr('tabindex', 0)\n",
       "    // reach out to IPython and tell the keyboard manager to turn it's self\n",
       "    // off when our div gets focus\n",
       "\n",
       "    // location in version 3\n",
       "    if (IPython.notebook.keyboard_manager) {\n",
       "        IPython.notebook.keyboard_manager.register_events(el);\n",
       "    }\n",
       "    else {\n",
       "        // location in version 2\n",
       "        IPython.keyboard_manager.register_events(el);\n",
       "    }\n",
       "\n",
       "}\n",
       "\n",
       "mpl.figure.prototype._key_event_extra = function(event, name) {\n",
       "    var manager = IPython.notebook.keyboard_manager;\n",
       "    if (!manager)\n",
       "        manager = IPython.keyboard_manager;\n",
       "\n",
       "    // Check for shift+enter\n",
       "    if (event.shiftKey && event.which == 13) {\n",
       "        this.canvas_div.blur();\n",
       "        event.shiftKey = false;\n",
       "        // Send a \"J\" for go to next cell\n",
       "        event.which = 74;\n",
       "        event.keyCode = 74;\n",
       "        manager.command_mode();\n",
       "        manager.handle_keydown(event);\n",
       "    }\n",
       "}\n",
       "\n",
       "mpl.figure.prototype.handle_save = function(fig, msg) {\n",
       "    fig.ondownload(fig, null);\n",
       "}\n",
       "\n",
       "\n",
       "mpl.find_output_cell = function(html_output) {\n",
       "    // Return the cell and output element which can be found *uniquely* in the notebook.\n",
       "    // Note - this is a bit hacky, but it is done because the \"notebook_saving.Notebook\"\n",
       "    // IPython event is triggered only after the cells have been serialised, which for\n",
       "    // our purposes (turning an active figure into a static one), is too late.\n",
       "    var cells = IPython.notebook.get_cells();\n",
       "    var ncells = cells.length;\n",
       "    for (var i=0; i<ncells; i++) {\n",
       "        var cell = cells[i];\n",
       "        if (cell.cell_type === 'code'){\n",
       "            for (var j=0; j<cell.output_area.outputs.length; j++) {\n",
       "                var data = cell.output_area.outputs[j];\n",
       "                if (data.data) {\n",
       "                    // IPython >= 3 moved mimebundle to data attribute of output\n",
       "                    data = data.data;\n",
       "                }\n",
       "                if (data['text/html'] == html_output) {\n",
       "                    return [cell, data, j];\n",
       "                }\n",
       "            }\n",
       "        }\n",
       "    }\n",
       "}\n",
       "\n",
       "// Register the function which deals with the matplotlib target/channel.\n",
       "// The kernel may be null if the page has been refreshed.\n",
       "if (IPython.notebook.kernel != null) {\n",
       "    IPython.notebook.kernel.comm_manager.register_target('matplotlib', mpl.mpl_figure_comm);\n",
       "}\n"
      ],
      "text/plain": [
       "<IPython.core.display.Javascript object>"
      ]
     },
     "metadata": {},
     "output_type": "display_data"
    },
    {
     "data": {
      "text/html": [
       "<img src=\"data:image/png;base64,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\" width=\"640\">"
      ],
      "text/plain": [
       "<IPython.core.display.HTML object>"
      ]
     },
     "metadata": {},
     "output_type": "display_data"
    }
   ],
   "source": [
    "pts = t.tensor([(1,1),(1,2),(2,2)]).float()\n",
    "plt.scatter(pts[:,0],pts[:,1]); plt.xlim(0,3); plt.ylim(0,3); plt.show()"
   ]
  },
  {
   "cell_type": "code",
   "execution_count": null,
   "metadata": {},
   "outputs": [],
   "source": [
    "params = t.tensor((1,0), requires_grad=True, dtype=t.float32)"
   ]
  },
  {
   "cell_type": "code",
   "execution_count": 52,
   "metadata": {},
   "outputs": [
    {
     "ename": "NameError",
     "evalue": "name 'params' is not defined",
     "output_type": "error",
     "traceback": [
      "\u001b[1;31m---------------------------------------------------------------------------\u001b[0m",
      "\u001b[1;31mNameError\u001b[0m                                 Traceback (most recent call last)",
      "\u001b[1;32m<ipython-input-52-21fe66dd9399>\u001b[0m in \u001b[0;36m<module>\u001b[1;34m()\u001b[0m\n\u001b[1;32m----> 1\u001b[1;33m \u001b[0mdiff\u001b[0m \u001b[1;33m=\u001b[0m \u001b[0mparams\u001b[0m\u001b[1;33m[\u001b[0m\u001b[1;36m0\u001b[0m\u001b[1;33m]\u001b[0m\u001b[1;33m*\u001b[0m\u001b[0mpts\u001b[0m\u001b[1;33m[\u001b[0m\u001b[1;33m:\u001b[0m\u001b[1;33m,\u001b[0m\u001b[1;36m0\u001b[0m\u001b[1;33m]\u001b[0m\u001b[1;33m+\u001b[0m\u001b[0mparams\u001b[0m\u001b[1;33m[\u001b[0m\u001b[1;36m1\u001b[0m\u001b[1;33m]\u001b[0m\u001b[1;33m-\u001b[0m\u001b[0mpts\u001b[0m\u001b[1;33m[\u001b[0m\u001b[1;33m:\u001b[0m\u001b[1;33m,\u001b[0m\u001b[1;36m1\u001b[0m\u001b[1;33m]\u001b[0m\u001b[1;33m\u001b[0m\u001b[0m\n\u001b[0m\u001b[0;32m      2\u001b[0m \u001b[0msq\u001b[0m \u001b[1;33m=\u001b[0m \u001b[1;33m(\u001b[0m\u001b[0mdiff\u001b[0m\u001b[1;33m*\u001b[0m\u001b[0mdiff\u001b[0m\u001b[1;33m)\u001b[0m\u001b[1;33m.\u001b[0m\u001b[0mfloat\u001b[0m\u001b[1;33m(\u001b[0m\u001b[1;33m)\u001b[0m\u001b[1;33m\u001b[0m\u001b[0m\n\u001b[0;32m      3\u001b[0m \u001b[0mloss\u001b[0m \u001b[1;33m=\u001b[0m \u001b[0msq\u001b[0m\u001b[1;33m.\u001b[0m\u001b[0mmean\u001b[0m\u001b[1;33m(\u001b[0m\u001b[1;33m)\u001b[0m\u001b[1;33m\u001b[0m\u001b[0m\n\u001b[0;32m      4\u001b[0m \u001b[0mloss\u001b[0m\u001b[1;33m.\u001b[0m\u001b[0mbackward\u001b[0m\u001b[1;33m(\u001b[0m\u001b[1;33m)\u001b[0m\u001b[1;33m\u001b[0m\u001b[0m\n\u001b[0;32m      5\u001b[0m \u001b[0mprint\u001b[0m\u001b[1;33m(\u001b[0m\u001b[0mparams\u001b[0m\u001b[1;33m.\u001b[0m\u001b[0mrequires_grad\u001b[0m\u001b[1;33m)\u001b[0m\u001b[1;33m\u001b[0m\u001b[0m\n",
      "\u001b[1;31mNameError\u001b[0m: name 'params' is not defined"
     ]
    }
   ],
   "source": [
    "diff = params[0]*pts[:,0]+params[1]-pts[:,1]\n",
    "sq = (diff*diff).float()\n",
    "loss = sq.mean()\n",
    "loss.backward()\n",
    "print(params.requires_grad)\n",
    "params = params - 0.001*params.grad"
   ]
  },
  {
   "cell_type": "code",
   "execution_count": null,
   "metadata": {},
   "outputs": [],
   "source": []
  },
  {
   "cell_type": "code",
   "execution_count": null,
   "metadata": {},
   "outputs": [],
   "source": []
  },
  {
   "cell_type": "raw",
   "metadata": {},
   "source": []
  },
  {
   "cell_type": "code",
   "execution_count": null,
   "metadata": {},
   "outputs": [],
   "source": []
  }
 ],
 "metadata": {
  "kernelspec": {
   "display_name": "Python 3",
   "language": "python",
   "name": "python3"
  },
  "language_info": {
   "codemirror_mode": {
    "name": "ipython",
    "version": 3
   },
   "file_extension": ".py",
   "mimetype": "text/x-python",
   "name": "python",
   "nbconvert_exporter": "python",
   "pygments_lexer": "ipython3",
   "version": "3.6.5"
  }
 },
 "nbformat": 4,
 "nbformat_minor": 2
}
