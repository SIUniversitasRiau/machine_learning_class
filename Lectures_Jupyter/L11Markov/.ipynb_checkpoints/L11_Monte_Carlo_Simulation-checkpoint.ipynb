{
 "cells": [
  {
   "cell_type": "markdown",
   "metadata": {},
   "source": [
    "<center>\n",
    "<font size='7' style=\"color:#0D47A1\">  <b>Monte Carlo Simulation</b></font>\n",
    "</center>\n",
    "\n",
    "<hr style= \"height:3px;\">\n",
    "<br>"
   ]
  },
  {
   "cell_type": "markdown",
   "metadata": {},
   "source": [
    "### Goal:\n",
    "Simulate trhowing darts to find the value of PI.\n"
   ]
  },
  {
   "cell_type": "markdown",
   "metadata": {},
   "source": [
    "What is the area of a circle with radious 1?"
   ]
  },
  {
   "cell_type": "code",
   "execution_count": 1,
   "metadata": {},
   "outputs": [
    {
     "name": "stdout",
     "output_type": "stream",
     "text": [
      "3.141592653589793\n"
     ]
    }
   ],
   "source": [
    "import numpy\n",
    "area_c = numpy.pi\n",
    "print(area_c)"
   ]
  },
  {
   "cell_type": "markdown",
   "metadata": {},
   "source": [
    "What is the area of a square with side 2?"
   ]
  },
  {
   "cell_type": "code",
   "execution_count": 2,
   "metadata": {},
   "outputs": [],
   "source": [
    "area_s = 2**2"
   ]
  },
  {
   "cell_type": "markdown",
   "metadata": {},
   "source": [
    "Assuming that the circle of radious 1 is at the center of a rectangle or side 2, what is the quotient of (4*Area of  circle)/(Area of rectangle)?\n"
   ]
  },
  {
   "cell_type": "code",
   "execution_count": 3,
   "metadata": {},
   "outputs": [
    {
     "name": "stdout",
     "output_type": "stream",
     "text": [
      "3.141592653589793\n"
     ]
    }
   ],
   "source": [
    "quotient = 4*area_c/area_s\n",
    "print(quotient)"
   ]
  },
  {
   "cell_type": "code",
   "execution_count": null,
   "metadata": {},
   "outputs": [],
   "source": []
  },
  {
   "cell_type": "markdown",
   "metadata": {},
   "source": [
    "In this program, we are going to simulate that we throw randomly darts to the square $[-1,1]x[-1,1]$ and by counting how many end in the inside of the unit circle, we will approximate the value of Pi."
   ]
  },
  {
   "cell_type": "code",
   "execution_count": 4,
   "metadata": {},
   "outputs": [
    {
     "name": "stdout",
     "output_type": "stream",
     "text": [
      "1.0\n"
     ]
    }
   ],
   "source": [
    "import numpy\n",
    "sign = numpy.sign(numpy.random.randn())    \n",
    "print(sign)"
   ]
  },
  {
   "cell_type": "code",
   "execution_count": null,
   "metadata": {
    "scrolled": true
   },
   "outputs": [
    {
     "name": "stdout",
     "output_type": "stream",
     "text": [
      "how many darts do you want?:  60\n"
     ]
    }
   ],
   "source": [
    "import turtle\n",
    "import math\n",
    "import random\n",
    "import numpy\n",
    "\n",
    "\n",
    "\n",
    "wn = turtle.Screen()\n",
    "wn.setworldcoordinates(-1,-1,1,1)\n",
    "\n",
    "Carlos = turtle.Turtle()\n",
    "Carlos.up()\n",
    "n = input('how many darts do you want?:  ')\n",
    "if int(n)>20:\n",
    "    Carlos.speed(5+int(n)//20)    \n",
    "count = 0\n",
    "\n",
    "for i in range(int(n)):\n",
    "    number1 = random.random()\n",
    "    sign1 = numpy.sign(numpy.random.randn())    \n",
    "    x = number1*sign1\n",
    "    number2 = random.random()\n",
    "    sign2 = numpy.sign(numpy.random.randn())\n",
    "    y = number2*sign2\n",
    "\n",
    "    Carlos.goto(x,y)\n",
    "    if Carlos.distance(0,0)<1:\n",
    "        count = count+1\n",
    "        Carlos.color('red')\n",
    "    else:\n",
    "        Carlos.color('blue')\n",
    "    Carlos.dot()\n",
    "    \n",
    "print('The quotient is ', 4*count/int(n))     \n",
    "\n",
    "wn.exitonclick()"
   ]
  },
  {
   "cell_type": "markdown",
   "metadata": {},
   "source": [
    "# "
   ]
  },
  {
   "cell_type": "code",
   "execution_count": null,
   "metadata": {},
   "outputs": [],
   "source": []
  },
  {
   "cell_type": "code",
   "execution_count": null,
   "metadata": {},
   "outputs": [],
   "source": []
  }
 ],
 "metadata": {
  "kernelspec": {
   "display_name": "Python 3",
   "language": "python",
   "name": "python3"
  },
  "language_info": {
   "codemirror_mode": {
    "name": "ipython",
    "version": 3
   },
   "file_extension": ".py",
   "mimetype": "text/x-python",
   "name": "python",
   "nbconvert_exporter": "python",
   "pygments_lexer": "ipython3",
   "version": "3.6.5"
  }
 },
 "nbformat": 4,
 "nbformat_minor": 2
}
