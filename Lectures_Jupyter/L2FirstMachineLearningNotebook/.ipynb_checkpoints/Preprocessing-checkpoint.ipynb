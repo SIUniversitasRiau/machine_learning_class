{
 "cells": [
  {
   "cell_type": "markdown",
   "metadata": {},
   "source": [
    "<center>\n",
    "<font size='7' style=\"color:#0D47A1\">  <b>PREPROCESSING</b> </font>\n",
    "</center>\n",
    "\n",
    "<hr style= \"height:3px;\">\n",
    "<br>"
   ]
  },
  {
   "cell_type": "code",
   "execution_count": 1,
   "metadata": {},
   "outputs": [],
   "source": [
    "import pandas as pd"
   ]
  },
  {
   "cell_type": "code",
   "execution_count": 2,
   "metadata": {},
   "outputs": [],
   "source": [
    "dataset = pd.read_csv('preprocessing.csv')"
   ]
  },
  {
   "cell_type": "code",
   "execution_count": 3,
   "metadata": {},
   "outputs": [
    {
     "data": {
      "text/html": [
       "<div>\n",
       "<style scoped>\n",
       "    .dataframe tbody tr th:only-of-type {\n",
       "        vertical-align: middle;\n",
       "    }\n",
       "\n",
       "    .dataframe tbody tr th {\n",
       "        vertical-align: top;\n",
       "    }\n",
       "\n",
       "    .dataframe thead th {\n",
       "        text-align: right;\n",
       "    }\n",
       "</style>\n",
       "<table border=\"1\" class=\"dataframe\">\n",
       "  <thead>\n",
       "    <tr style=\"text-align: right;\">\n",
       "      <th></th>\n",
       "      <th>State</th>\n",
       "      <th>Age</th>\n",
       "      <th>Salary</th>\n",
       "      <th>Savings</th>\n",
       "    </tr>\n",
       "  </thead>\n",
       "  <tbody>\n",
       "    <tr>\n",
       "      <th>0</th>\n",
       "      <td>Texas</td>\n",
       "      <td>25</td>\n",
       "      <td>41000</td>\n",
       "      <td>5000</td>\n",
       "    </tr>\n",
       "    <tr>\n",
       "      <th>1</th>\n",
       "      <td>Florida</td>\n",
       "      <td>55</td>\n",
       "      <td>125000</td>\n",
       "      <td>41000</td>\n",
       "    </tr>\n",
       "    <tr>\n",
       "      <th>2</th>\n",
       "      <td>California</td>\n",
       "      <td>44</td>\n",
       "      <td>85000</td>\n",
       "      <td>11000</td>\n",
       "    </tr>\n",
       "    <tr>\n",
       "      <th>3</th>\n",
       "      <td>Florida</td>\n",
       "      <td>34</td>\n",
       "      <td>56000</td>\n",
       "      <td>10000</td>\n",
       "    </tr>\n",
       "    <tr>\n",
       "      <th>4</th>\n",
       "      <td>California</td>\n",
       "      <td>27</td>\n",
       "      <td>70000</td>\n",
       "      <td>9500</td>\n",
       "    </tr>\n",
       "    <tr>\n",
       "      <th>5</th>\n",
       "      <td>Texas</td>\n",
       "      <td>31</td>\n",
       "      <td>90000</td>\n",
       "      <td>12000</td>\n",
       "    </tr>\n",
       "    <tr>\n",
       "      <th>6</th>\n",
       "      <td>Florida</td>\n",
       "      <td>31</td>\n",
       "      <td>55000</td>\n",
       "      <td>13000</td>\n",
       "    </tr>\n",
       "    <tr>\n",
       "      <th>7</th>\n",
       "      <td>Texas</td>\n",
       "      <td>29</td>\n",
       "      <td>58000</td>\n",
       "      <td>55000</td>\n",
       "    </tr>\n",
       "    <tr>\n",
       "      <th>8</th>\n",
       "      <td>California</td>\n",
       "      <td>31</td>\n",
       "      <td>70000</td>\n",
       "      <td>5000</td>\n",
       "    </tr>\n",
       "    <tr>\n",
       "      <th>9</th>\n",
       "      <td>Texas</td>\n",
       "      <td>47</td>\n",
       "      <td>80000</td>\n",
       "      <td>7000</td>\n",
       "    </tr>\n",
       "    <tr>\n",
       "      <th>10</th>\n",
       "      <td>Florida</td>\n",
       "      <td>41</td>\n",
       "      <td>65000</td>\n",
       "      <td>8000</td>\n",
       "    </tr>\n",
       "    <tr>\n",
       "      <th>11</th>\n",
       "      <td>Florida</td>\n",
       "      <td>41</td>\n",
       "      <td>90000</td>\n",
       "      <td>25000</td>\n",
       "    </tr>\n",
       "    <tr>\n",
       "      <th>12</th>\n",
       "      <td>Texas</td>\n",
       "      <td>48</td>\n",
       "      <td>125000</td>\n",
       "      <td>20000</td>\n",
       "    </tr>\n",
       "    <tr>\n",
       "      <th>13</th>\n",
       "      <td>California</td>\n",
       "      <td>52</td>\n",
       "      <td>225000</td>\n",
       "      <td>100000</td>\n",
       "    </tr>\n",
       "    <tr>\n",
       "      <th>14</th>\n",
       "      <td>California</td>\n",
       "      <td>30</td>\n",
       "      <td>125000</td>\n",
       "      <td>8000</td>\n",
       "    </tr>\n",
       "    <tr>\n",
       "      <th>15</th>\n",
       "      <td>California</td>\n",
       "      <td>38</td>\n",
       "      <td>140000</td>\n",
       "      <td>14000</td>\n",
       "    </tr>\n",
       "    <tr>\n",
       "      <th>16</th>\n",
       "      <td>Texas</td>\n",
       "      <td>48</td>\n",
       "      <td>77000</td>\n",
       "      <td>7000</td>\n",
       "    </tr>\n",
       "    <tr>\n",
       "      <th>17</th>\n",
       "      <td>Florida</td>\n",
       "      <td>59</td>\n",
       "      <td>65000</td>\n",
       "      <td>14000</td>\n",
       "    </tr>\n",
       "    <tr>\n",
       "      <th>18</th>\n",
       "      <td>California</td>\n",
       "      <td>37</td>\n",
       "      <td>67000</td>\n",
       "      <td>6000</td>\n",
       "    </tr>\n",
       "    <tr>\n",
       "      <th>19</th>\n",
       "      <td>Florida</td>\n",
       "      <td>43</td>\n",
       "      <td>72000</td>\n",
       "      <td>15500</td>\n",
       "    </tr>\n",
       "    <tr>\n",
       "      <th>20</th>\n",
       "      <td>California</td>\n",
       "      <td>51</td>\n",
       "      <td>85000</td>\n",
       "      <td>15000</td>\n",
       "    </tr>\n",
       "    <tr>\n",
       "      <th>21</th>\n",
       "      <td>Texas</td>\n",
       "      <td>46</td>\n",
       "      <td>75000</td>\n",
       "      <td>9000</td>\n",
       "    </tr>\n",
       "    <tr>\n",
       "      <th>22</th>\n",
       "      <td>California</td>\n",
       "      <td>28</td>\n",
       "      <td>42000</td>\n",
       "      <td>2000</td>\n",
       "    </tr>\n",
       "    <tr>\n",
       "      <th>23</th>\n",
       "      <td>Texas</td>\n",
       "      <td>40</td>\n",
       "      <td>98000</td>\n",
       "      <td>10000</td>\n",
       "    </tr>\n",
       "    <tr>\n",
       "      <th>24</th>\n",
       "      <td>Florida</td>\n",
       "      <td>34</td>\n",
       "      <td>78000</td>\n",
       "      <td>8000</td>\n",
       "    </tr>\n",
       "    <tr>\n",
       "      <th>25</th>\n",
       "      <td>Texas</td>\n",
       "      <td>45</td>\n",
       "      <td>54000</td>\n",
       "      <td>4000</td>\n",
       "    </tr>\n",
       "    <tr>\n",
       "      <th>26</th>\n",
       "      <td>Florida</td>\n",
       "      <td>35</td>\n",
       "      <td>55000</td>\n",
       "      <td>13000</td>\n",
       "    </tr>\n",
       "    <tr>\n",
       "      <th>27</th>\n",
       "      <td>Texas</td>\n",
       "      <td>39</td>\n",
       "      <td>93000</td>\n",
       "      <td>12000</td>\n",
       "    </tr>\n",
       "    <tr>\n",
       "      <th>28</th>\n",
       "      <td>California</td>\n",
       "      <td>36</td>\n",
       "      <td>108000</td>\n",
       "      <td>11000</td>\n",
       "    </tr>\n",
       "    <tr>\n",
       "      <th>29</th>\n",
       "      <td>Florida</td>\n",
       "      <td>55</td>\n",
       "      <td>150000</td>\n",
       "      <td>50000</td>\n",
       "    </tr>\n",
       "  </tbody>\n",
       "</table>\n",
       "</div>"
      ],
      "text/plain": [
       "         State  Age  Salary  Savings\n",
       "0        Texas   25   41000     5000\n",
       "1      Florida   55  125000    41000\n",
       "2   California   44   85000    11000\n",
       "3      Florida   34   56000    10000\n",
       "4   California   27   70000     9500\n",
       "5        Texas   31   90000    12000\n",
       "6      Florida   31   55000    13000\n",
       "7        Texas   29   58000    55000\n",
       "8   California   31   70000     5000\n",
       "9        Texas   47   80000     7000\n",
       "10     Florida   41   65000     8000\n",
       "11     Florida   41   90000    25000\n",
       "12       Texas   48  125000    20000\n",
       "13  California   52  225000   100000\n",
       "14  California   30  125000     8000\n",
       "15  California   38  140000    14000\n",
       "16       Texas   48   77000     7000\n",
       "17     Florida   59   65000    14000\n",
       "18  California   37   67000     6000\n",
       "19     Florida   43   72000    15500\n",
       "20  California   51   85000    15000\n",
       "21       Texas   46   75000     9000\n",
       "22  California   28   42000     2000\n",
       "23       Texas   40   98000    10000\n",
       "24     Florida   34   78000     8000\n",
       "25       Texas   45   54000     4000\n",
       "26     Florida   35   55000    13000\n",
       "27       Texas   39   93000    12000\n",
       "28  California   36  108000    11000\n",
       "29     Florida   55  150000    50000"
      ]
     },
     "execution_count": 3,
     "metadata": {},
     "output_type": "execute_result"
    }
   ],
   "source": [
    "dataset"
   ]
  },
  {
   "cell_type": "code",
   "execution_count": 4,
   "metadata": {},
   "outputs": [],
   "source": [
    "X = dataset.iloc[:, :-1].values"
   ]
  },
  {
   "cell_type": "code",
   "execution_count": 5,
   "metadata": {},
   "outputs": [
    {
     "data": {
      "text/plain": [
       "array([['Texas', 25, 41000],\n",
       "       ['Florida', 55, 125000],\n",
       "       ['California', 44, 85000],\n",
       "       ['Florida', 34, 56000],\n",
       "       ['California', 27, 70000],\n",
       "       ['Texas', 31, 90000],\n",
       "       ['Florida', 31, 55000],\n",
       "       ['Texas', 29, 58000],\n",
       "       ['California', 31, 70000],\n",
       "       ['Texas', 47, 80000],\n",
       "       ['Florida', 41, 65000],\n",
       "       ['Florida', 41, 90000],\n",
       "       ['Texas', 48, 125000],\n",
       "       ['California', 52, 225000],\n",
       "       ['California', 30, 125000],\n",
       "       ['California', 38, 140000],\n",
       "       ['Texas', 48, 77000],\n",
       "       ['Florida', 59, 65000],\n",
       "       ['California', 37, 67000],\n",
       "       ['Florida', 43, 72000],\n",
       "       ['California', 51, 85000],\n",
       "       ['Texas', 46, 75000],\n",
       "       ['California', 28, 42000],\n",
       "       ['Texas', 40, 98000],\n",
       "       ['Florida', 34, 78000],\n",
       "       ['Texas', 45, 54000],\n",
       "       ['Florida', 35, 55000],\n",
       "       ['Texas', 39, 93000],\n",
       "       ['California', 36, 108000],\n",
       "       ['Florida', 55, 150000]], dtype=object)"
      ]
     },
     "execution_count": 5,
     "metadata": {},
     "output_type": "execute_result"
    }
   ],
   "source": [
    "X"
   ]
  },
  {
   "cell_type": "code",
   "execution_count": 6,
   "metadata": {},
   "outputs": [
    {
     "data": {
      "text/plain": [
       "array([  5000,  41000,  11000,  10000,   9500,  12000,  13000,  55000,\n",
       "         5000,   7000,   8000,  25000,  20000, 100000,   8000,  14000,\n",
       "         7000,  14000,   6000,  15500,  15000,   9000,   2000,  10000,\n",
       "         8000,   4000,  13000,  12000,  11000,  50000])"
      ]
     },
     "execution_count": 6,
     "metadata": {},
     "output_type": "execute_result"
    }
   ],
   "source": [
    "y = dataset.iloc[:,3].values\n",
    "y"
   ]
  },
  {
   "cell_type": "markdown",
   "metadata": {},
   "source": [
    "<br>\n",
    "<font size='6' style=\"color:#00A6D6\">  <b>Using Scikitlearn to Preprocess the data</b> </font>"
   ]
  },
  {
   "cell_type": "code",
   "execution_count": 7,
   "metadata": {},
   "outputs": [],
   "source": [
    "from sklearn.preprocessing import Imputer"
   ]
  },
  {
   "cell_type": "code",
   "execution_count": 8,
   "metadata": {},
   "outputs": [],
   "source": [
    "# Here we create the object that will take care of all missing values \n",
    "# by replacing them with the mean of all values.\n",
    "\n",
    "imputer = Imputer(missing_values= 'NaN', strategy='mean', axis=0)"
   ]
  },
  {
   "cell_type": "code",
   "execution_count": 9,
   "metadata": {},
   "outputs": [],
   "source": [
    "imputer = imputer.fit(X[ : , 1:2])"
   ]
  },
  {
   "cell_type": "code",
   "execution_count": 10,
   "metadata": {},
   "outputs": [],
   "source": [
    "X[ : , 1:2] = imputer.transform(X[ : , 1:2])"
   ]
  },
  {
   "cell_type": "code",
   "execution_count": 11,
   "metadata": {},
   "outputs": [
    {
     "data": {
      "text/plain": [
       "array([['Texas', 25.0, 41000],\n",
       "       ['Florida', 55.0, 125000],\n",
       "       ['California', 44.0, 85000],\n",
       "       ['Florida', 34.0, 56000],\n",
       "       ['California', 27.0, 70000],\n",
       "       ['Texas', 31.0, 90000],\n",
       "       ['Florida', 31.0, 55000],\n",
       "       ['Texas', 29.0, 58000],\n",
       "       ['California', 31.0, 70000],\n",
       "       ['Texas', 47.0, 80000],\n",
       "       ['Florida', 41.0, 65000],\n",
       "       ['Florida', 41.0, 90000],\n",
       "       ['Texas', 48.0, 125000],\n",
       "       ['California', 52.0, 225000],\n",
       "       ['California', 30.0, 125000],\n",
       "       ['California', 38.0, 140000],\n",
       "       ['Texas', 48.0, 77000],\n",
       "       ['Florida', 59.0, 65000],\n",
       "       ['California', 37.0, 67000],\n",
       "       ['Florida', 43.0, 72000],\n",
       "       ['California', 51.0, 85000],\n",
       "       ['Texas', 46.0, 75000],\n",
       "       ['California', 28.0, 42000],\n",
       "       ['Texas', 40.0, 98000],\n",
       "       ['Florida', 34.0, 78000],\n",
       "       ['Texas', 45.0, 54000],\n",
       "       ['Florida', 35.0, 55000],\n",
       "       ['Texas', 39.0, 93000],\n",
       "       ['California', 36.0, 108000],\n",
       "       ['Florida', 55.0, 150000]], dtype=object)"
      ]
     },
     "execution_count": 11,
     "metadata": {},
     "output_type": "execute_result"
    }
   ],
   "source": [
    "X"
   ]
  },
  {
   "cell_type": "markdown",
   "metadata": {},
   "source": [
    "<br>\n",
    "<font size='6' style=\"color:#00A6D6\">  <b>Categorical Data</b> </font>"
   ]
  },
  {
   "cell_type": "markdown",
   "metadata": {},
   "source": [
    "In this section we will take a look at two different approaches to deal with categorical data: Label Encoder and One Hot Encoder. Take a look at the following post:\n",
    "\n",
    " * https://machinelearningmastery.com/how-to-one-hot-encode-sequence-data-in-python/-"
   ]
  },
  {
   "cell_type": "code",
   "execution_count": 25,
   "metadata": {},
   "outputs": [],
   "source": [
    "from sklearn.preprocessing import LabelEncoder, OneHotEncoder"
   ]
  },
  {
   "cell_type": "code",
   "execution_count": 26,
   "metadata": {},
   "outputs": [],
   "source": [
    "labelencoder_X = LabelEncoder()"
   ]
  },
  {
   "cell_type": "code",
   "execution_count": 27,
   "metadata": {},
   "outputs": [
    {
     "data": {
      "text/plain": [
       "array([[2, 25.0, 41000.0],\n",
       "       [1, 55.0, 125000.0],\n",
       "       [0, 44.0, 85000.0],\n",
       "       [1, 34.0, 56000.0],\n",
       "       [0, 27.0, 70000.0],\n",
       "       [2, 31.0, 90000.0],\n",
       "       [1, 31.0, 55000.0],\n",
       "       [2, 29.0, 58000.0],\n",
       "       [0, 31.0, 70000.0],\n",
       "       [2, 47.0, 80000.0],\n",
       "       [1, 41.0, 65000.0],\n",
       "       [1, 41.0, 90000.0],\n",
       "       [2, 48.0, 125000.0],\n",
       "       [0, 52.0, 225000.0],\n",
       "       [0, 30.0, 125000.0],\n",
       "       [0, 38.0, 140000.0],\n",
       "       [2, 48.0, 77000.0],\n",
       "       [1, 59.0, 65000.0],\n",
       "       [0, 37.0, 67000.0],\n",
       "       [1, 43.0, 72000.0],\n",
       "       [0, 51.0, 85000.0],\n",
       "       [2, 46.0, 75000.0],\n",
       "       [0, 28.0, 42000.0],\n",
       "       [2, 40.0, 98000.0],\n",
       "       [1, 34.0, 78000.0],\n",
       "       [2, 45.0, 54000.0],\n",
       "       [1, 35.0, 55000.0],\n",
       "       [2, 39.0, 93000.0],\n",
       "       [0, 36.0, 108000.0],\n",
       "       [1, 55.0, 150000.0]], dtype=object)"
      ]
     },
     "execution_count": 27,
     "metadata": {},
     "output_type": "execute_result"
    }
   ],
   "source": [
    "X[ : , 0] = labelencoder_X.fit_transform(X[ : , 0])\n",
    "X"
   ]
  },
  {
   "cell_type": "code",
   "execution_count": 28,
   "metadata": {},
   "outputs": [],
   "source": [
    "onehotencoder = OneHotEncoder(categorical_features= [0])"
   ]
  },
  {
   "cell_type": "code",
   "execution_count": 29,
   "metadata": {},
   "outputs": [],
   "source": [
    "X = onehotencoder.fit_transform(X).toarray()"
   ]
  },
  {
   "cell_type": "code",
   "execution_count": 30,
   "metadata": {},
   "outputs": [
    {
     "data": {
      "text/plain": [
       "array([[0.00e+00, 0.00e+00, 1.00e+00, 2.50e+01, 4.10e+04],\n",
       "       [0.00e+00, 1.00e+00, 0.00e+00, 5.50e+01, 1.25e+05],\n",
       "       [1.00e+00, 0.00e+00, 0.00e+00, 4.40e+01, 8.50e+04],\n",
       "       [0.00e+00, 1.00e+00, 0.00e+00, 3.40e+01, 5.60e+04],\n",
       "       [1.00e+00, 0.00e+00, 0.00e+00, 2.70e+01, 7.00e+04],\n",
       "       [0.00e+00, 0.00e+00, 1.00e+00, 3.10e+01, 9.00e+04],\n",
       "       [0.00e+00, 1.00e+00, 0.00e+00, 3.10e+01, 5.50e+04],\n",
       "       [0.00e+00, 0.00e+00, 1.00e+00, 2.90e+01, 5.80e+04],\n",
       "       [1.00e+00, 0.00e+00, 0.00e+00, 3.10e+01, 7.00e+04],\n",
       "       [0.00e+00, 0.00e+00, 1.00e+00, 4.70e+01, 8.00e+04],\n",
       "       [0.00e+00, 1.00e+00, 0.00e+00, 4.10e+01, 6.50e+04],\n",
       "       [0.00e+00, 1.00e+00, 0.00e+00, 4.10e+01, 9.00e+04],\n",
       "       [0.00e+00, 0.00e+00, 1.00e+00, 4.80e+01, 1.25e+05],\n",
       "       [1.00e+00, 0.00e+00, 0.00e+00, 5.20e+01, 2.25e+05],\n",
       "       [1.00e+00, 0.00e+00, 0.00e+00, 3.00e+01, 1.25e+05],\n",
       "       [1.00e+00, 0.00e+00, 0.00e+00, 3.80e+01, 1.40e+05],\n",
       "       [0.00e+00, 0.00e+00, 1.00e+00, 4.80e+01, 7.70e+04],\n",
       "       [0.00e+00, 1.00e+00, 0.00e+00, 5.90e+01, 6.50e+04],\n",
       "       [1.00e+00, 0.00e+00, 0.00e+00, 3.70e+01, 6.70e+04],\n",
       "       [0.00e+00, 1.00e+00, 0.00e+00, 4.30e+01, 7.20e+04],\n",
       "       [1.00e+00, 0.00e+00, 0.00e+00, 5.10e+01, 8.50e+04],\n",
       "       [0.00e+00, 0.00e+00, 1.00e+00, 4.60e+01, 7.50e+04],\n",
       "       [1.00e+00, 0.00e+00, 0.00e+00, 2.80e+01, 4.20e+04],\n",
       "       [0.00e+00, 0.00e+00, 1.00e+00, 4.00e+01, 9.80e+04],\n",
       "       [0.00e+00, 1.00e+00, 0.00e+00, 3.40e+01, 7.80e+04],\n",
       "       [0.00e+00, 0.00e+00, 1.00e+00, 4.50e+01, 5.40e+04],\n",
       "       [0.00e+00, 1.00e+00, 0.00e+00, 3.50e+01, 5.50e+04],\n",
       "       [0.00e+00, 0.00e+00, 1.00e+00, 3.90e+01, 9.30e+04],\n",
       "       [1.00e+00, 0.00e+00, 0.00e+00, 3.60e+01, 1.08e+05],\n",
       "       [0.00e+00, 1.00e+00, 0.00e+00, 5.50e+01, 1.50e+05]])"
      ]
     },
     "execution_count": 30,
     "metadata": {},
     "output_type": "execute_result"
    }
   ],
   "source": [
    "X"
   ]
  },
  {
   "cell_type": "markdown",
   "metadata": {},
   "source": [
    "<br>\n",
    "<font size='6' style=\"color:#00A6D6\">  <b>Splitting the dataset</b> </font>"
   ]
  },
  {
   "cell_type": "code",
   "execution_count": 31,
   "metadata": {},
   "outputs": [],
   "source": [
    "# Scikitlearn can split the dataset into the training and test parts for us. \n",
    "from sklearn.model_selection import train_test_split"
   ]
  },
  {
   "cell_type": "code",
   "execution_count": 32,
   "metadata": {},
   "outputs": [],
   "source": [
    "X_train, X_test, y_train, y_test = train_test_split(X,y, test_size= 1/3, random_state= 0)"
   ]
  },
  {
   "cell_type": "code",
   "execution_count": 33,
   "metadata": {},
   "outputs": [
    {
     "data": {
      "text/plain": [
       "array([[1.00e+00, 0.00e+00, 0.00e+00, 4.40e+01, 8.50e+04],\n",
       "       [1.00e+00, 0.00e+00, 0.00e+00, 3.60e+01, 1.08e+05],\n",
       "       [1.00e+00, 0.00e+00, 0.00e+00, 5.20e+01, 2.25e+05],\n",
       "       [0.00e+00, 1.00e+00, 0.00e+00, 4.10e+01, 6.50e+04],\n",
       "       [0.00e+00, 1.00e+00, 0.00e+00, 3.50e+01, 5.50e+04],\n",
       "       [0.00e+00, 1.00e+00, 0.00e+00, 3.40e+01, 7.80e+04],\n",
       "       [0.00e+00, 0.00e+00, 1.00e+00, 3.90e+01, 9.30e+04],\n",
       "       [0.00e+00, 1.00e+00, 0.00e+00, 4.10e+01, 9.00e+04],\n",
       "       [0.00e+00, 1.00e+00, 0.00e+00, 5.90e+01, 6.50e+04],\n",
       "       [1.00e+00, 0.00e+00, 0.00e+00, 2.80e+01, 4.20e+04]])"
      ]
     },
     "execution_count": 33,
     "metadata": {},
     "output_type": "execute_result"
    }
   ],
   "source": [
    "X_test"
   ]
  },
  {
   "cell_type": "markdown",
   "metadata": {},
   "source": [
    "<br>\n",
    "<font size='6' style=\"color:#00A6D6\">  <b>Feature Scaling</b> </font>"
   ]
  },
  {
   "cell_type": "markdown",
   "metadata": {},
   "source": [
    "The machine learning algorithms used here, are gonna try to find the most optimal linear combination of features to make predictions; however, some features may have more weight simply because their numerical values are way bigger than other ones. In order to solve this bias, we can scale our features. For more information read the following post: \n",
    "\n",
    " * https://medium.com/greyatom/why-how-and-when-to-scale-your-features-4b30ab09db5e\n"
   ]
  },
  {
   "cell_type": "code",
   "execution_count": 34,
   "metadata": {},
   "outputs": [],
   "source": [
    "from sklearn.preprocessing import StandardScaler"
   ]
  },
  {
   "cell_type": "code",
   "execution_count": 35,
   "metadata": {},
   "outputs": [],
   "source": [
    "sc_x = StandardScaler()"
   ]
  },
  {
   "cell_type": "code",
   "execution_count": 36,
   "metadata": {},
   "outputs": [],
   "source": [
    "X_train = sc_x.fit_transform(X_train)\n",
    "X_test = sc_x.transform(X_test)"
   ]
  },
  {
   "cell_type": "code",
   "execution_count": 37,
   "metadata": {},
   "outputs": [
    {
     "data": {
      "text/plain": [
       "array([[-0.65465367, -0.57735027,  1.1055416 , -0.9217157 ,  0.14212897],\n",
       "       [-0.65465367, -0.57735027,  1.1055416 ,  0.9109354 , -0.28262428],\n",
       "       [ 1.52752523, -0.57735027, -0.90453403, -0.9217157 , -0.51133757],\n",
       "       [ 1.52752523, -0.57735027, -0.90453403, -1.02951871,  1.28569543],\n",
       "       [-0.65465367, -0.57735027,  1.1055416 ,  0.04851135,  0.40351559],\n",
       "       [ 1.52752523, -0.57735027, -0.90453403,  1.23434442, -0.02123766],\n",
       "       [-0.65465367,  1.73205081, -0.90453403,  1.66555644,  1.28569543],\n",
       "       [-0.65465367,  1.73205081, -0.90453403,  1.66555644,  2.10252862],\n",
       "       [-0.65465367,  1.73205081, -0.90453403, -0.9217157 , -1.00143749],\n",
       "       [ 1.52752523, -0.57735027, -0.90453403, -1.35292773, -0.51133757],\n",
       "       [ 1.52752523, -0.57735027, -0.90453403, -0.27489767, -0.60935756],\n",
       "       [-0.65465367,  1.73205081, -0.90453403,  0.37192037, -0.44599092],\n",
       "       [-0.65465367, -0.57735027,  1.1055416 ,  0.8031324 , -0.1846043 ],\n",
       "       [-0.65465367, -0.57735027,  1.1055416 , -1.13732171, -0.9034175 ],\n",
       "       [-0.65465367, -0.57735027,  1.1055416 ,  0.58752638, -1.03411081],\n",
       "       [-0.65465367,  1.73205081, -0.90453403, -0.59830668, -0.96876416],\n",
       "       [-0.65465367, -0.57735027,  1.1055416 , -1.56853374, -1.45886407],\n",
       "       [-0.65465367, -0.57735027,  1.1055416 ,  0.69532939, -0.34797094],\n",
       "       [ 1.52752523, -0.57735027, -0.90453403, -0.16709466,  1.77579535],\n",
       "       [-0.65465367, -0.57735027,  1.1055416 ,  0.9109354 ,  1.28569543]])"
      ]
     },
     "execution_count": 37,
     "metadata": {},
     "output_type": "execute_result"
    }
   ],
   "source": [
    "X_train"
   ]
  },
  {
   "cell_type": "code",
   "execution_count": null,
   "metadata": {},
   "outputs": [],
   "source": []
  }
 ],
 "metadata": {
  "kernelspec": {
   "display_name": "Python 3",
   "language": "python",
   "name": "python3"
  },
  "language_info": {
   "codemirror_mode": {
    "name": "ipython",
    "version": 3
   },
   "file_extension": ".py",
   "mimetype": "text/x-python",
   "name": "python",
   "nbconvert_exporter": "python",
   "pygments_lexer": "ipython3",
   "version": "3.6.5"
  }
 },
 "nbformat": 4,
 "nbformat_minor": 2
}
